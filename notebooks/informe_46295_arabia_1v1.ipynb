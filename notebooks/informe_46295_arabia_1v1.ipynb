{
 "cells": [
  {
   "cell_type": "markdown",
   "metadata": {},
   "source": [
    "## <center> AGE OF EMPIRES II: DE PATCH 46295 - ARABIA 1v1</center>\n",
    "\n",
    "![46295](https://static.ageofempires.com/aoe/wp-content/uploads/2021/03/2021.03.24-PHOENIX_Update-46295.jpg)"
   ]
  },
  {
   "cell_type": "markdown",
   "metadata": {},
   "source": [
    "### ANÁLISIS EXPLORATORIO DE LOS DATOS."
   ]
  },
  {
   "cell_type": "markdown",
   "metadata": {},
   "source": [
    "#### LIBRERÍAS UTILIZADAS."
   ]
  },
  {
   "cell_type": "code",
   "execution_count": 1,
   "metadata": {},
   "outputs": [],
   "source": [
    "## Importación de datos.\n",
    "from sqlalchemy import create_engine\n",
    "\n",
    "## Tratamiento de datos.\n",
    "import pandas as pd\n",
    "import numpy as np\n",
    "\n",
    "## Gráficos.\n",
    "import matplotlib.pyplot as plt\n",
    "from matplotlib import style\n",
    "import seaborn as sns\n",
    "from pylab import rcParams\n",
    "rcParams['figure.figsize'] = 14, 10\n",
    "\n",
    "## Configuración warnings.\n",
    "import warnings\n",
    "warnings.filterwarnings('ignore')"
   ]
  },
  {
   "cell_type": "markdown",
   "metadata": {},
   "source": [
    "#### QUERY A LA BBDD DE MARIADB."
   ]
  },
  {
   "cell_type": "code",
   "execution_count": 2,
   "metadata": {
    "scrolled": true
   },
   "outputs": [],
   "source": [
    "# Nombre de usuario, contraseña y BBDD MySQL.\n",
    "mysql_address = 'xxx.xxx.xxx.xxx'\n",
    "mysql_port = 'xxx'\n",
    "mysql_username = 'xxx'\n",
    "mysql_password = 'xxx'\n",
    "mysql_dbname = 'xxx'\n",
    "\n",
    "# String que contiene la información necesaria para el login de MySQL.\n",
    "mysql_str = ('mysql+pymysql://{username}:{password}@{ipaddress}:{port}/{dbname}'\n",
    ".format(username = mysql_username,\n",
    "password = mysql_password,\n",
    "ipaddress = mysql_address,\n",
    "port = mysql_port,\n",
    "dbname = mysql_dbname))"
   ]
  },
  {
   "cell_type": "code",
   "execution_count": 3,
   "metadata": {},
   "outputs": [
    {
     "data": {
      "text/plain": [
       "(985721, 12)"
      ]
     },
     "execution_count": 3,
     "metadata": {},
     "output_type": "execute_result"
    }
   ],
   "source": [
    "# Query para importar los datos desde MySQL.\n",
    "cnx = create_engine(mysql_str)\n",
    "query = f\"\"\"\n",
    "SELECT\n",
    "        matches.match_id,\n",
    "        matches.version,\n",
    "        matches.server,\n",
    "        matches.duration_minutes,\n",
    "        players.profile_id,\n",
    "        players.player_name,\n",
    "        players.country,\n",
    "        players.rating,\n",
    "        players.color,\n",
    "        players.team,\n",
    "        players.civ,\n",
    "        players.won\n",
    "FROM\n",
    "    matches, players\n",
    "WHERE\n",
    "    matches.match_id = players.match_id\n",
    "AND\n",
    "    matches.version = '46295'\n",
    "AND\n",
    "    matches.map_type = 'Arabia'\n",
    "AND\n",
    "    matches.rating_type = '1v1 Random Map'\n",
    "\"\"\"\n",
    "df = pd.read_sql_query(query, con=cnx)\n",
    "df.shape"
   ]
  },
  {
   "cell_type": "markdown",
   "metadata": {},
   "source": [
    "#### PREVISUALIZACIÓN DEL DATASET."
   ]
  },
  {
   "cell_type": "code",
   "execution_count": 4,
   "metadata": {
    "scrolled": true
   },
   "outputs": [
    {
     "data": {
      "text/html": [
       "<div>\n",
       "<style scoped>\n",
       "    .dataframe tbody tr th:only-of-type {\n",
       "        vertical-align: middle;\n",
       "    }\n",
       "\n",
       "    .dataframe tbody tr th {\n",
       "        vertical-align: top;\n",
       "    }\n",
       "\n",
       "    .dataframe thead th {\n",
       "        text-align: right;\n",
       "    }\n",
       "</style>\n",
       "<table border=\"1\" class=\"dataframe\">\n",
       "  <thead>\n",
       "    <tr style=\"text-align: right;\">\n",
       "      <th></th>\n",
       "      <th>match_id</th>\n",
       "      <th>version</th>\n",
       "      <th>server</th>\n",
       "      <th>duration_minutes</th>\n",
       "      <th>profile_id</th>\n",
       "      <th>player_name</th>\n",
       "      <th>country</th>\n",
       "      <th>rating</th>\n",
       "      <th>color</th>\n",
       "      <th>team</th>\n",
       "      <th>civ</th>\n",
       "      <th>won</th>\n",
       "    </tr>\n",
       "  </thead>\n",
       "  <tbody>\n",
       "    <tr>\n",
       "      <th>0</th>\n",
       "      <td>79168372</td>\n",
       "      <td>46295</td>\n",
       "      <td>ukwest</td>\n",
       "      <td>20</td>\n",
       "      <td>1614015</td>\n",
       "      <td>[M1T1] IlGrandeGherpy</td>\n",
       "      <td>IT</td>\n",
       "      <td>1362.0</td>\n",
       "      <td>blue</td>\n",
       "      <td>2</td>\n",
       "      <td>Aztecs</td>\n",
       "      <td>1</td>\n",
       "    </tr>\n",
       "    <tr>\n",
       "      <th>1</th>\n",
       "      <td>79168372</td>\n",
       "      <td>46295</td>\n",
       "      <td>ukwest</td>\n",
       "      <td>20</td>\n",
       "      <td>2475419</td>\n",
       "      <td>colinc126</td>\n",
       "      <td>IE</td>\n",
       "      <td>1304.0</td>\n",
       "      <td>red</td>\n",
       "      <td>1</td>\n",
       "      <td>Magyars</td>\n",
       "      <td>0</td>\n",
       "    </tr>\n",
       "    <tr>\n",
       "      <th>2</th>\n",
       "      <td>79169030</td>\n",
       "      <td>46295</td>\n",
       "      <td>westeurope</td>\n",
       "      <td>38</td>\n",
       "      <td>1303753</td>\n",
       "      <td>Konpitsa</td>\n",
       "      <td>GR</td>\n",
       "      <td>1025.0</td>\n",
       "      <td>red</td>\n",
       "      <td>1</td>\n",
       "      <td>Slavs</td>\n",
       "      <td>0</td>\n",
       "    </tr>\n",
       "    <tr>\n",
       "      <th>3</th>\n",
       "      <td>79169030</td>\n",
       "      <td>46295</td>\n",
       "      <td>westeurope</td>\n",
       "      <td>38</td>\n",
       "      <td>2852050</td>\n",
       "      <td>ol3sti</td>\n",
       "      <td>TR</td>\n",
       "      <td>1084.0</td>\n",
       "      <td>blue</td>\n",
       "      <td>2</td>\n",
       "      <td>Mongols</td>\n",
       "      <td>1</td>\n",
       "    </tr>\n",
       "    <tr>\n",
       "      <th>4</th>\n",
       "      <td>79169421</td>\n",
       "      <td>46295</td>\n",
       "      <td>ukwest</td>\n",
       "      <td>17</td>\n",
       "      <td>230040</td>\n",
       "      <td>MikaVerLeth</td>\n",
       "      <td>DE</td>\n",
       "      <td>1047.0</td>\n",
       "      <td>blue</td>\n",
       "      <td>2</td>\n",
       "      <td>Lithuanians</td>\n",
       "      <td>1</td>\n",
       "    </tr>\n",
       "    <tr>\n",
       "      <th>5</th>\n",
       "      <td>79169421</td>\n",
       "      <td>46295</td>\n",
       "      <td>ukwest</td>\n",
       "      <td>17</td>\n",
       "      <td>2298698</td>\n",
       "      <td>Barnibo</td>\n",
       "      <td>FR</td>\n",
       "      <td>1006.0</td>\n",
       "      <td>red</td>\n",
       "      <td>1</td>\n",
       "      <td>Koreans</td>\n",
       "      <td>0</td>\n",
       "    </tr>\n",
       "    <tr>\n",
       "      <th>6</th>\n",
       "      <td>79169705</td>\n",
       "      <td>46295</td>\n",
       "      <td>eastus</td>\n",
       "      <td>14</td>\n",
       "      <td>3684413</td>\n",
       "      <td>大屁股NoMalarkeyMitch大屁股</td>\n",
       "      <td>US</td>\n",
       "      <td>1044.0</td>\n",
       "      <td>cyan</td>\n",
       "      <td>2</td>\n",
       "      <td>Britons</td>\n",
       "      <td>1</td>\n",
       "    </tr>\n",
       "    <tr>\n",
       "      <th>7</th>\n",
       "      <td>79169705</td>\n",
       "      <td>46295</td>\n",
       "      <td>eastus</td>\n",
       "      <td>14</td>\n",
       "      <td>4995855</td>\n",
       "      <td>SatellarKnight</td>\n",
       "      <td>MX</td>\n",
       "      <td>1031.0</td>\n",
       "      <td>yellow</td>\n",
       "      <td>1</td>\n",
       "      <td>Magyars</td>\n",
       "      <td>0</td>\n",
       "    </tr>\n",
       "    <tr>\n",
       "      <th>8</th>\n",
       "      <td>79169826</td>\n",
       "      <td>46295</td>\n",
       "      <td>ukwest</td>\n",
       "      <td>22</td>\n",
       "      <td>1798388</td>\n",
       "      <td>Terry_Bryant</td>\n",
       "      <td>ES</td>\n",
       "      <td>738.0</td>\n",
       "      <td>yellow</td>\n",
       "      <td>1</td>\n",
       "      <td>Chinese</td>\n",
       "      <td>0</td>\n",
       "    </tr>\n",
       "    <tr>\n",
       "      <th>9</th>\n",
       "      <td>79169826</td>\n",
       "      <td>46295</td>\n",
       "      <td>ukwest</td>\n",
       "      <td>22</td>\n",
       "      <td>4299449</td>\n",
       "      <td>Shevrarske</td>\n",
       "      <td>TR</td>\n",
       "      <td>755.0</td>\n",
       "      <td>blue</td>\n",
       "      <td>2</td>\n",
       "      <td>Lithuanians</td>\n",
       "      <td>1</td>\n",
       "    </tr>\n",
       "  </tbody>\n",
       "</table>\n",
       "</div>"
      ],
      "text/plain": [
       "   match_id  version      server  duration_minutes  profile_id  \\\n",
       "0  79168372    46295      ukwest                20     1614015   \n",
       "1  79168372    46295      ukwest                20     2475419   \n",
       "2  79169030    46295  westeurope                38     1303753   \n",
       "3  79169030    46295  westeurope                38     2852050   \n",
       "4  79169421    46295      ukwest                17      230040   \n",
       "5  79169421    46295      ukwest                17     2298698   \n",
       "6  79169705    46295      eastus                14     3684413   \n",
       "7  79169705    46295      eastus                14     4995855   \n",
       "8  79169826    46295      ukwest                22     1798388   \n",
       "9  79169826    46295      ukwest                22     4299449   \n",
       "\n",
       "             player_name country  rating   color  team          civ  won  \n",
       "0  [M1T1] IlGrandeGherpy      IT  1362.0    blue     2       Aztecs    1  \n",
       "1              colinc126      IE  1304.0     red     1      Magyars    0  \n",
       "2               Konpitsa      GR  1025.0     red     1        Slavs    0  \n",
       "3                 ol3sti      TR  1084.0    blue     2      Mongols    1  \n",
       "4            MikaVerLeth      DE  1047.0    blue     2  Lithuanians    1  \n",
       "5                Barnibo      FR  1006.0     red     1      Koreans    0  \n",
       "6  大屁股NoMalarkeyMitch大屁股      US  1044.0    cyan     2      Britons    1  \n",
       "7         SatellarKnight      MX  1031.0  yellow     1      Magyars    0  \n",
       "8           Terry_Bryant      ES   738.0  yellow     1      Chinese    0  \n",
       "9             Shevrarske      TR   755.0    blue     2  Lithuanians    1  "
      ]
     },
     "execution_count": 4,
     "metadata": {},
     "output_type": "execute_result"
    }
   ],
   "source": [
    "# Observamos los primeros 10 valores para ver que se han cargado correctamente.\n",
    "df.head(10)"
   ]
  },
  {
   "cell_type": "code",
   "execution_count": 5,
   "metadata": {},
   "outputs": [
    {
     "data": {
      "text/plain": [
       "match_id                0\n",
       "version                 0\n",
       "server                  0\n",
       "duration_minutes        0\n",
       "profile_id              0\n",
       "player_name             1\n",
       "country             52385\n",
       "rating              48868\n",
       "color                   4\n",
       "team                    0\n",
       "civ                     0\n",
       "won                     0\n",
       "dtype: int64"
      ]
     },
     "execution_count": 5,
     "metadata": {},
     "output_type": "execute_result"
    }
   ],
   "source": [
    "# Comprobación de valores NaN en el dataset.\n",
    "df.isna().sum()"
   ]
  },
  {
   "cell_type": "code",
   "execution_count": 6,
   "metadata": {},
   "outputs": [],
   "source": [
    "# Rellenar valores vacíos de las varibales \"color\" y \"country\".\n",
    "df.color.fillna(\"unknown\", inplace=True)\n",
    "df.country.fillna(\"UNKNOWN\", inplace=True)"
   ]
  },
  {
   "cell_type": "code",
   "execution_count": 7,
   "metadata": {},
   "outputs": [
    {
     "name": "stdout",
     "output_type": "stream",
     "text": [
      "Total partidas: 492861\n"
     ]
    }
   ],
   "source": [
    "total_partidas                          = len(df.match_id.unique())\n",
    "print(\"Total partidas: \" + str(total_partidas))"
   ]
  },
  {
   "cell_type": "markdown",
   "metadata": {},
   "source": [
    "#### Civilizaciones."
   ]
  },
  {
   "cell_type": "code",
   "execution_count": 8,
   "metadata": {},
   "outputs": [],
   "source": [
    "# Obtener los valores únicos de la variable \"civ\".\n",
    "sorted_civs = df.civ.unique().tolist()\n",
    "sorted_civs.sort()"
   ]
  },
  {
   "cell_type": "code",
   "execution_count": 9,
   "metadata": {},
   "outputs": [],
   "source": [
    "def get_frequency_rates_by_civ(df):\n",
    "    return pd.DataFrame(df.civ.value_counts(normalize=True)).reset_index().rename(columns={\"index\": \"civ\", \"civ\": \"frequency\"})"
   ]
  },
  {
   "cell_type": "code",
   "execution_count": 10,
   "metadata": {},
   "outputs": [],
   "source": [
    "frequency_civs_singleplayer = get_frequency_rates_by_civ(df)"
   ]
  },
  {
   "cell_type": "code",
   "execution_count": 11,
   "metadata": {},
   "outputs": [],
   "source": [
    "def get_win_rates_by_civ(df):\n",
    "    return (\n",
    "        df.groupby(\"civ\")[\"won\"]\n",
    "            .mean()\n",
    "            .reset_index()\n",
    "            .rename(columns={\"won\": \"win_rate\"})\n",
    "            .sort_values(\"win_rate\", ascending=False)\n",
    "            .reset_index(drop=True)\n",
    "    )"
   ]
  },
  {
   "cell_type": "code",
   "execution_count": 12,
   "metadata": {},
   "outputs": [],
   "source": [
    "winrate_civs_singleplayer = get_win_rates_by_civ(df)"
   ]
  },
  {
   "cell_type": "markdown",
   "metadata": {},
   "source": [
    "#### Colores."
   ]
  },
  {
   "cell_type": "code",
   "execution_count": 13,
   "metadata": {},
   "outputs": [],
   "source": [
    "# Obtener los valores únicos de la variable \"color\".\n",
    "sorted_colors = df.color.unique().tolist()\n",
    "sorted_colors.sort()"
   ]
  },
  {
   "cell_type": "code",
   "execution_count": 14,
   "metadata": {},
   "outputs": [],
   "source": [
    "def get_frequency_rates_by_color(df):\n",
    "    return pd.DataFrame(df.color.value_counts(normalize=True)).reset_index().rename(columns={\"index\": \"color\", \"color\": \"frequency\"})"
   ]
  },
  {
   "cell_type": "code",
   "execution_count": 15,
   "metadata": {},
   "outputs": [],
   "source": [
    "frequency_colors_singleplayer = get_frequency_rates_by_color(df)"
   ]
  },
  {
   "cell_type": "markdown",
   "metadata": {},
   "source": [
    "#### Servidores."
   ]
  },
  {
   "cell_type": "code",
   "execution_count": 16,
   "metadata": {},
   "outputs": [],
   "source": [
    "# Obtener los valores únicos de la variable \"server\".\n",
    "sorted_servers = df.server.unique().tolist()\n",
    "sorted_servers.sort()"
   ]
  },
  {
   "cell_type": "code",
   "execution_count": 17,
   "metadata": {},
   "outputs": [],
   "source": [
    "def get_frequency_rates_by_server(df):\n",
    "    return pd.DataFrame(df.server.value_counts(normalize=True)).reset_index().rename(columns={\"index\": \"server\", \"server\": \"frequency\"})"
   ]
  },
  {
   "cell_type": "code",
   "execution_count": 18,
   "metadata": {},
   "outputs": [],
   "source": [
    "frequency_server_singleplayer = get_frequency_rates_by_server(df)"
   ]
  },
  {
   "cell_type": "markdown",
   "metadata": {},
   "source": [
    "#### Países."
   ]
  },
  {
   "cell_type": "code",
   "execution_count": 19,
   "metadata": {},
   "outputs": [],
   "source": [
    "# Obtener los valores únicos de la variable \"country\".\n",
    "sorted_countries= df.country.unique().tolist()\n",
    "sorted_countries.sort()"
   ]
  },
  {
   "cell_type": "code",
   "execution_count": 20,
   "metadata": {},
   "outputs": [],
   "source": [
    "def get_frequency_rates_by_country(df):\n",
    "    return pd.DataFrame(df.country.value_counts(normalize=True)).reset_index().rename(columns={\"index\": \"country\", \"country\": \"frequency\"})"
   ]
  },
  {
   "cell_type": "code",
   "execution_count": 21,
   "metadata": {},
   "outputs": [],
   "source": [
    "frequency_country_singleplayer = get_frequency_rates_by_country(df)"
   ]
  },
  {
   "cell_type": "markdown",
   "metadata": {},
   "source": [
    "#### ANÁLISIS PARTIDAS 1v1."
   ]
  },
  {
   "cell_type": "code",
   "execution_count": 22,
   "metadata": {},
   "outputs": [
    {
     "data": {
      "text/plain": [
       "match_id                0\n",
       "version                 0\n",
       "server                  0\n",
       "duration_minutes        0\n",
       "profile_id              0\n",
       "player_name             1\n",
       "country                 0\n",
       "rating              48868\n",
       "color                   0\n",
       "team                    0\n",
       "civ                     0\n",
       "won                     0\n",
       "dtype: int64"
      ]
     },
     "execution_count": 22,
     "metadata": {},
     "output_type": "execute_result"
    }
   ],
   "source": [
    "# Comprobación de valores NaN de cada variable.\n",
    "df.isna().sum()"
   ]
  },
  {
   "cell_type": "code",
   "execution_count": 23,
   "metadata": {},
   "outputs": [
    {
     "data": {
      "text/html": [
       "<div>\n",
       "<style scoped>\n",
       "    .dataframe tbody tr th:only-of-type {\n",
       "        vertical-align: middle;\n",
       "    }\n",
       "\n",
       "    .dataframe tbody tr th {\n",
       "        vertical-align: top;\n",
       "    }\n",
       "\n",
       "    .dataframe thead th {\n",
       "        text-align: right;\n",
       "    }\n",
       "</style>\n",
       "<table border=\"1\" class=\"dataframe\">\n",
       "  <thead>\n",
       "    <tr style=\"text-align: right;\">\n",
       "      <th></th>\n",
       "      <th>match_id</th>\n",
       "      <th>version</th>\n",
       "      <th>duration_minutes</th>\n",
       "      <th>profile_id</th>\n",
       "      <th>rating</th>\n",
       "      <th>team</th>\n",
       "      <th>won</th>\n",
       "    </tr>\n",
       "  </thead>\n",
       "  <tbody>\n",
       "    <tr>\n",
       "      <th>count</th>\n",
       "      <td>9.857210e+05</td>\n",
       "      <td>985721.0</td>\n",
       "      <td>985721.000000</td>\n",
       "      <td>9.857210e+05</td>\n",
       "      <td>936853.000000</td>\n",
       "      <td>985721.000000</td>\n",
       "      <td>985721.000000</td>\n",
       "    </tr>\n",
       "    <tr>\n",
       "      <th>mean</th>\n",
       "      <td>8.409300e+07</td>\n",
       "      <td>46295.0</td>\n",
       "      <td>24.351126</td>\n",
       "      <td>2.528112e+06</td>\n",
       "      <td>1167.022591</td>\n",
       "      <td>1.499999</td>\n",
       "      <td>0.499999</td>\n",
       "    </tr>\n",
       "    <tr>\n",
       "      <th>std</th>\n",
       "      <td>2.744888e+06</td>\n",
       "      <td>0.0</td>\n",
       "      <td>11.136739</td>\n",
       "      <td>1.608427e+06</td>\n",
       "      <td>294.187958</td>\n",
       "      <td>0.500000</td>\n",
       "      <td>0.500000</td>\n",
       "    </tr>\n",
       "    <tr>\n",
       "      <th>min</th>\n",
       "      <td>7.916837e+07</td>\n",
       "      <td>46295.0</td>\n",
       "      <td>0.000000</td>\n",
       "      <td>1.320000e+02</td>\n",
       "      <td>0.000000</td>\n",
       "      <td>1.000000</td>\n",
       "      <td>0.000000</td>\n",
       "    </tr>\n",
       "    <tr>\n",
       "      <th>25%</th>\n",
       "      <td>8.172446e+07</td>\n",
       "      <td>46295.0</td>\n",
       "      <td>17.000000</td>\n",
       "      <td>1.099653e+06</td>\n",
       "      <td>963.000000</td>\n",
       "      <td>1.000000</td>\n",
       "      <td>0.000000</td>\n",
       "    </tr>\n",
       "    <tr>\n",
       "      <th>50%</th>\n",
       "      <td>8.416716e+07</td>\n",
       "      <td>46295.0</td>\n",
       "      <td>24.000000</td>\n",
       "      <td>2.442964e+06</td>\n",
       "      <td>1123.000000</td>\n",
       "      <td>1.000000</td>\n",
       "      <td>0.000000</td>\n",
       "    </tr>\n",
       "    <tr>\n",
       "      <th>75%</th>\n",
       "      <td>8.636986e+07</td>\n",
       "      <td>46295.0</td>\n",
       "      <td>31.000000</td>\n",
       "      <td>3.799386e+06</td>\n",
       "      <td>1326.000000</td>\n",
       "      <td>2.000000</td>\n",
       "      <td>1.000000</td>\n",
       "    </tr>\n",
       "    <tr>\n",
       "      <th>max</th>\n",
       "      <td>8.892586e+07</td>\n",
       "      <td>46295.0</td>\n",
       "      <td>238.000000</td>\n",
       "      <td>5.681179e+06</td>\n",
       "      <td>2609.000000</td>\n",
       "      <td>2.000000</td>\n",
       "      <td>1.000000</td>\n",
       "    </tr>\n",
       "  </tbody>\n",
       "</table>\n",
       "</div>"
      ],
      "text/plain": [
       "           match_id   version  duration_minutes    profile_id         rating  \\\n",
       "count  9.857210e+05  985721.0     985721.000000  9.857210e+05  936853.000000   \n",
       "mean   8.409300e+07   46295.0         24.351126  2.528112e+06    1167.022591   \n",
       "std    2.744888e+06       0.0         11.136739  1.608427e+06     294.187958   \n",
       "min    7.916837e+07   46295.0          0.000000  1.320000e+02       0.000000   \n",
       "25%    8.172446e+07   46295.0         17.000000  1.099653e+06     963.000000   \n",
       "50%    8.416716e+07   46295.0         24.000000  2.442964e+06    1123.000000   \n",
       "75%    8.636986e+07   46295.0         31.000000  3.799386e+06    1326.000000   \n",
       "max    8.892586e+07   46295.0        238.000000  5.681179e+06    2609.000000   \n",
       "\n",
       "                team            won  \n",
       "count  985721.000000  985721.000000  \n",
       "mean        1.499999       0.499999  \n",
       "std         0.500000       0.500000  \n",
       "min         1.000000       0.000000  \n",
       "25%         1.000000       0.000000  \n",
       "50%         1.000000       0.000000  \n",
       "75%         2.000000       1.000000  \n",
       "max         2.000000       1.000000  "
      ]
     },
     "execution_count": 23,
     "metadata": {},
     "output_type": "execute_result"
    }
   ],
   "source": [
    "df.describe()"
   ]
  },
  {
   "cell_type": "code",
   "execution_count": 24,
   "metadata": {},
   "outputs": [
    {
     "data": {
      "text/plain": [
       "Text(0.5, 0, 'ELO')"
      ]
     },
     "execution_count": 24,
     "metadata": {},
     "output_type": "execute_result"
    },
    {
     "data": {
      "image/png": "[encoded data removed]",
      "text/plain": [
       "<Figure size 1008x720 with 1 Axes>"
      ]
     },
     "metadata": {
      "needs_background": "light"
     },
     "output_type": "display_data"
    }
   ],
   "source": [
    "ax = sns.histplot(df.rating, stat=\"count\", kde=\"True\")\n",
    "ax.set_title('Histograma ELO 1v1')\n",
    "ax.set_ylabel('Recuento')\n",
    "ax.set_xlabel('ELO')"
   ]
  },
  {
   "cell_type": "code",
   "execution_count": 25,
   "metadata": {},
   "outputs": [
    {
     "data": {
      "text/plain": [
       "<AxesSubplot:xlabel='rating'>"
      ]
     },
     "execution_count": 25,
     "metadata": {},
     "output_type": "execute_result"
    },
    {
     "data": {
      "image/png": "[encoded data removed]",
      "text/plain": [
       "<Figure size 1008x720 with 1 Axes>"
      ]
     },
     "metadata": {
      "needs_background": "light"
     },
     "output_type": "display_data"
    }
   ],
   "source": [
    "sns.boxplot(df.rating)"
   ]
  },
  {
   "cell_type": "code",
   "execution_count": 26,
   "metadata": {},
   "outputs": [
    {
     "data": {
      "text/plain": [
       "Text(0.5, 0, 'Duración en minutos')"
      ]
     },
     "execution_count": 26,
     "metadata": {},
     "output_type": "execute_result"
    },
    {
     "data": {
      "image/png": "[encoded data removed]",
      "text/plain": [
       "<Figure size 1008x720 with 1 Axes>"
      ]
     },
     "metadata": {
      "needs_background": "light"
     },
     "output_type": "display_data"
    }
   ],
   "source": [
    "ax = sns.histplot(df.duration_minutes)\n",
    "plt.xlim(0, 100)\n",
    "ax.set_title('Histograma Duración Partidas 1v1')\n",
    "ax.set_ylabel('Recuento')\n",
    "ax.set_xlabel('Duración en minutos')"
   ]
  },
  {
   "cell_type": "code",
   "execution_count": 27,
   "metadata": {},
   "outputs": [
    {
     "data": {
      "text/plain": [
       "<AxesSubplot:xlabel='duration_minutes'>"
      ]
     },
     "execution_count": 27,
     "metadata": {},
     "output_type": "execute_result"
    },
    {
     "data": {
      "image/png": "[encoded data removed]",
      "text/plain": [
       "<Figure size 1008x720 with 1 Axes>"
      ]
     },
     "metadata": {
      "needs_background": "light"
     },
     "output_type": "display_data"
    }
   ],
   "source": [
    "sns.boxplot(df.duration_minutes)"
   ]
  },
  {
   "cell_type": "code",
   "execution_count": 28,
   "metadata": {},
   "outputs": [
    {
     "data": {
      "text/plain": [
       "Text(0.5, 1.0, '% de Uso de Civilizaciones en partidas 1v1')"
      ]
     },
     "execution_count": 28,
     "metadata": {},
     "output_type": "execute_result"
    },
    {
     "data": {
      "image/png": "[encoded data removed]",
      "text/plain": [
       "<Figure size 504x504 with 1 Axes>"
      ]
     },
     "metadata": {
      "needs_background": "light"
     },
     "output_type": "display_data"
    }
   ],
   "source": [
    "sns.catplot(y=\"civ\", x=\"frequency\",  data=frequency_civs_singleplayer, saturation=.5, kind=\"bar\", ci=None, aspect=1, height=7)\n",
    "plt.ylabel(\"Civilización\")\n",
    "plt.xlabel(\"% de Uso\")\n",
    "plt.title(\"% de Uso de Civilizaciones en partidas 1v1\")"
   ]
  },
  {
   "cell_type": "code",
   "execution_count": 29,
   "metadata": {},
   "outputs": [
    {
     "data": {
      "text/plain": [
       "Text(0.5, 1.0, 'Porcentaje de Victorias de Civilizaciones en partidas 1v1')"
      ]
     },
     "execution_count": 29,
     "metadata": {},
     "output_type": "execute_result"
    },
    {
     "data": {
      "image/png": "[encoded data removed]",
      "text/plain": [
       "<Figure size 504x504 with 1 Axes>"
      ]
     },
     "metadata": {
      "needs_background": "light"
     },
     "output_type": "display_data"
    }
   ],
   "source": [
    "sns.catplot(y=\"civ\", x=\"win_rate\",  data=winrate_civs_singleplayer, saturation=.5, kind=\"bar\", ci=None, aspect=1, height=7)\n",
    "plt.ylabel(\"Civilización\")\n",
    "plt.xlabel(\"% de Victorias\")\n",
    "lim_sup = float(winrate_civs_singleplayer.win_rate.head(1) + 0.01)\n",
    "lim_inf = float(winrate_civs_singleplayer.win_rate.tail(1) - 0.01)\n",
    "plt.xlim(lim_inf, lim_sup)\n",
    "plt.title(\"Porcentaje de Victorias de Civilizaciones en partidas 1v1\")"
   ]
  },
  {
   "cell_type": "code",
   "execution_count": 30,
   "metadata": {
    "scrolled": false
   },
   "outputs": [
    {
     "data": {
      "text/plain": [
       "Text(0.5, 1.0, '% de Partidas por Color en partidas 1v1')"
      ]
     },
     "execution_count": 30,
     "metadata": {},
     "output_type": "execute_result"
    },
    {
     "data": {
      "image/png": "[encoded data removed]",
      "text/plain": [
       "<Figure size 504x504 with 1 Axes>"
      ]
     },
     "metadata": {
      "needs_background": "light"
     },
     "output_type": "display_data"
    }
   ],
   "source": [
    "sns.catplot(y=\"color\", x=\"frequency\",  data=frequency_colors_singleplayer, saturation=.5, kind=\"bar\", ci=None, aspect=1, height=7)\n",
    "plt.ylabel(\"Color\")\n",
    "plt.xlabel(\"% de Partidas\")\n",
    "plt.title(\"% de Partidas por Color en partidas 1v1\")"
   ]
  },
  {
   "cell_type": "code",
   "execution_count": 31,
   "metadata": {},
   "outputs": [
    {
     "data": {
      "text/plain": [
       "Text(0.5, 1.0, '% de Partidas por Servidor en partidas 1v1')"
      ]
     },
     "execution_count": 31,
     "metadata": {},
     "output_type": "execute_result"
    },
    {
     "data": {
      "image/png": "[encoded data removed]",
      "text/plain": [
       "<Figure size 504x504 with 1 Axes>"
      ]
     },
     "metadata": {
      "needs_background": "light"
     },
     "output_type": "display_data"
    }
   ],
   "source": [
    "sns.catplot(y=\"server\", x=\"frequency\",  data=frequency_server_singleplayer, saturation=.5, kind=\"bar\", ci=None, aspect=1, height=7)\n",
    "plt.ylabel(\"Servidor\")\n",
    "plt.xlabel(\"% de Partidas\")\n",
    "plt.title(\"% de Partidas por Servidor en partidas 1v1\")"
   ]
  },
  {
   "cell_type": "code",
   "execution_count": 32,
   "metadata": {},
   "outputs": [
    {
     "data": {
      "text/plain": [
       "Text(0.5, 1.0, '% de Partidas por Nacionalidad en partidas 1v1')"
      ]
     },
     "execution_count": 32,
     "metadata": {},
     "output_type": "execute_result"
    },
    {
     "data": {
      "image/png": "[encoded data removed]",
      "text/plain": [
       "<Figure size 504x504 with 1 Axes>"
      ]
     },
     "metadata": {
      "needs_background": "light"
     },
     "output_type": "display_data"
    }
   ],
   "source": [
    "frequency_country_singleplayer = frequency_country_singleplayer.head(50)\n",
    "sns.catplot(y=\"country\", x=\"frequency\",  data=frequency_country_singleplayer, saturation=.5, kind=\"bar\", ci=None, aspect=1, height=7)\n",
    "plt.ylabel(\"Nacionalidad\")\n",
    "plt.xlabel(\"% de Partidas\")\n",
    "plt.title(\"% de Partidas por Nacionalidad en partidas 1v1\")"
   ]
  },
  {
   "cell_type": "code",
   "execution_count": 33,
   "metadata": {},
   "outputs": [],
   "source": [
    "renames_singleplayer = {\n",
    "    \"profile_id\": \"opponent\",\n",
    "    \"civ\": \"opponent_civ\",\n",
    "}\n",
    "opponents_singleplayer = df[[\"match_id\", \"profile_id\", \"civ\"]].rename(columns=renames_singleplayer)\n",
    "vs_df = pd.merge(df, opponents_singleplayer, left_on=\"match_id\", right_on=\"match_id\").rename(columns={\"profile_id\": \"player\"})\n",
    "\n",
    "# Dado que hemos fusionado el mismo marco de datos un jugador será un oponente de sí mismo, debemos eliminar esas filas.\n",
    "vs_df = vs_df[vs_df[\"player\"] != vs_df[\"opponent\"]]\n",
    "vs_df = vs_df[[\"match_id\", \"player\", \"opponent\", \"civ\", \"opponent_civ\", \"won\"]]"
   ]
  },
  {
   "cell_type": "code",
   "execution_count": 34,
   "metadata": {},
   "outputs": [
    {
     "data": {
      "text/html": [
       "<div>\n",
       "<style scoped>\n",
       "    .dataframe tbody tr th:only-of-type {\n",
       "        vertical-align: middle;\n",
       "    }\n",
       "\n",
       "    .dataframe tbody tr th {\n",
       "        vertical-align: top;\n",
       "    }\n",
       "\n",
       "    .dataframe thead th {\n",
       "        text-align: right;\n",
       "    }\n",
       "</style>\n",
       "<table border=\"1\" class=\"dataframe\">\n",
       "  <thead>\n",
       "    <tr style=\"text-align: right;\">\n",
       "      <th></th>\n",
       "      <th>match_id</th>\n",
       "      <th>player</th>\n",
       "      <th>opponent</th>\n",
       "      <th>civ</th>\n",
       "      <th>opponent_civ</th>\n",
       "      <th>won</th>\n",
       "    </tr>\n",
       "  </thead>\n",
       "  <tbody>\n",
       "    <tr>\n",
       "      <th>1</th>\n",
       "      <td>79168372</td>\n",
       "      <td>1614015</td>\n",
       "      <td>2475419</td>\n",
       "      <td>Aztecs</td>\n",
       "      <td>Magyars</td>\n",
       "      <td>1</td>\n",
       "    </tr>\n",
       "    <tr>\n",
       "      <th>2</th>\n",
       "      <td>79168372</td>\n",
       "      <td>2475419</td>\n",
       "      <td>1614015</td>\n",
       "      <td>Magyars</td>\n",
       "      <td>Aztecs</td>\n",
       "      <td>0</td>\n",
       "    </tr>\n",
       "    <tr>\n",
       "      <th>5</th>\n",
       "      <td>79169030</td>\n",
       "      <td>1303753</td>\n",
       "      <td>2852050</td>\n",
       "      <td>Slavs</td>\n",
       "      <td>Mongols</td>\n",
       "      <td>0</td>\n",
       "    </tr>\n",
       "    <tr>\n",
       "      <th>6</th>\n",
       "      <td>79169030</td>\n",
       "      <td>2852050</td>\n",
       "      <td>1303753</td>\n",
       "      <td>Mongols</td>\n",
       "      <td>Slavs</td>\n",
       "      <td>1</td>\n",
       "    </tr>\n",
       "    <tr>\n",
       "      <th>9</th>\n",
       "      <td>79169421</td>\n",
       "      <td>230040</td>\n",
       "      <td>2298698</td>\n",
       "      <td>Lithuanians</td>\n",
       "      <td>Koreans</td>\n",
       "      <td>1</td>\n",
       "    </tr>\n",
       "    <tr>\n",
       "      <th>10</th>\n",
       "      <td>79169421</td>\n",
       "      <td>2298698</td>\n",
       "      <td>230040</td>\n",
       "      <td>Koreans</td>\n",
       "      <td>Lithuanians</td>\n",
       "      <td>0</td>\n",
       "    </tr>\n",
       "  </tbody>\n",
       "</table>\n",
       "</div>"
      ],
      "text/plain": [
       "    match_id   player  opponent          civ opponent_civ  won\n",
       "1   79168372  1614015   2475419       Aztecs      Magyars    1\n",
       "2   79168372  2475419   1614015      Magyars       Aztecs    0\n",
       "5   79169030  1303753   2852050        Slavs      Mongols    0\n",
       "6   79169030  2852050   1303753      Mongols        Slavs    1\n",
       "9   79169421   230040   2298698  Lithuanians      Koreans    1\n",
       "10  79169421  2298698    230040      Koreans  Lithuanians    0"
      ]
     },
     "execution_count": 34,
     "metadata": {},
     "output_type": "execute_result"
    }
   ],
   "source": [
    "vs_df.head(6)"
   ]
  },
  {
   "cell_type": "code",
   "execution_count": 35,
   "metadata": {},
   "outputs": [
    {
     "data": {
      "text/html": [
       "<div>\n",
       "<style scoped>\n",
       "    .dataframe tbody tr th:only-of-type {\n",
       "        vertical-align: middle;\n",
       "    }\n",
       "\n",
       "    .dataframe tbody tr th {\n",
       "        vertical-align: top;\n",
       "    }\n",
       "\n",
       "    .dataframe thead th {\n",
       "        text-align: right;\n",
       "    }\n",
       "</style>\n",
       "<table border=\"1\" class=\"dataframe\">\n",
       "  <thead>\n",
       "    <tr style=\"text-align: right;\">\n",
       "      <th>opponent_civ</th>\n",
       "      <th>Aztecs</th>\n",
       "      <th>Berbers</th>\n",
       "      <th>Britons</th>\n",
       "      <th>Bulgarians</th>\n",
       "      <th>Burgundians</th>\n",
       "      <th>Burmese</th>\n",
       "      <th>Byzantines</th>\n",
       "      <th>Celts</th>\n",
       "      <th>Chinese</th>\n",
       "      <th>Cumans</th>\n",
       "      <th>...</th>\n",
       "      <th>Portuguese</th>\n",
       "      <th>Saracens</th>\n",
       "      <th>Sicilians</th>\n",
       "      <th>Slavs</th>\n",
       "      <th>Spanish</th>\n",
       "      <th>Tatars</th>\n",
       "      <th>Teutons</th>\n",
       "      <th>Turks</th>\n",
       "      <th>Vietnamese</th>\n",
       "      <th>Vikings</th>\n",
       "    </tr>\n",
       "    <tr>\n",
       "      <th>civ</th>\n",
       "      <th></th>\n",
       "      <th></th>\n",
       "      <th></th>\n",
       "      <th></th>\n",
       "      <th></th>\n",
       "      <th></th>\n",
       "      <th></th>\n",
       "      <th></th>\n",
       "      <th></th>\n",
       "      <th></th>\n",
       "      <th></th>\n",
       "      <th></th>\n",
       "      <th></th>\n",
       "      <th></th>\n",
       "      <th></th>\n",
       "      <th></th>\n",
       "      <th></th>\n",
       "      <th></th>\n",
       "      <th></th>\n",
       "      <th></th>\n",
       "      <th></th>\n",
       "    </tr>\n",
       "  </thead>\n",
       "  <tbody>\n",
       "    <tr>\n",
       "      <th>Aztecs</th>\n",
       "      <td>0.500000</td>\n",
       "      <td>0.500657</td>\n",
       "      <td>0.506974</td>\n",
       "      <td>0.417582</td>\n",
       "      <td>0.598592</td>\n",
       "      <td>0.501779</td>\n",
       "      <td>0.559292</td>\n",
       "      <td>0.476312</td>\n",
       "      <td>0.529637</td>\n",
       "      <td>0.572565</td>\n",
       "      <td>...</td>\n",
       "      <td>0.507692</td>\n",
       "      <td>0.534483</td>\n",
       "      <td>0.452107</td>\n",
       "      <td>0.462527</td>\n",
       "      <td>0.511983</td>\n",
       "      <td>0.561939</td>\n",
       "      <td>0.448657</td>\n",
       "      <td>0.527594</td>\n",
       "      <td>0.537338</td>\n",
       "      <td>0.450041</td>\n",
       "    </tr>\n",
       "    <tr>\n",
       "      <th>Berbers</th>\n",
       "      <td>0.499343</td>\n",
       "      <td>0.500000</td>\n",
       "      <td>0.547112</td>\n",
       "      <td>0.527704</td>\n",
       "      <td>0.582418</td>\n",
       "      <td>0.551220</td>\n",
       "      <td>0.534351</td>\n",
       "      <td>0.511152</td>\n",
       "      <td>0.595336</td>\n",
       "      <td>0.596386</td>\n",
       "      <td>...</td>\n",
       "      <td>0.645455</td>\n",
       "      <td>0.506361</td>\n",
       "      <td>0.568720</td>\n",
       "      <td>0.575342</td>\n",
       "      <td>0.583051</td>\n",
       "      <td>0.635714</td>\n",
       "      <td>0.514815</td>\n",
       "      <td>0.578947</td>\n",
       "      <td>0.614865</td>\n",
       "      <td>0.521837</td>\n",
       "    </tr>\n",
       "    <tr>\n",
       "      <th>Britons</th>\n",
       "      <td>0.493026</td>\n",
       "      <td>0.452888</td>\n",
       "      <td>0.500000</td>\n",
       "      <td>0.490782</td>\n",
       "      <td>0.567929</td>\n",
       "      <td>0.560669</td>\n",
       "      <td>0.582934</td>\n",
       "      <td>0.502078</td>\n",
       "      <td>0.560420</td>\n",
       "      <td>0.562427</td>\n",
       "      <td>...</td>\n",
       "      <td>0.594937</td>\n",
       "      <td>0.559538</td>\n",
       "      <td>0.521445</td>\n",
       "      <td>0.526841</td>\n",
       "      <td>0.569737</td>\n",
       "      <td>0.557114</td>\n",
       "      <td>0.523330</td>\n",
       "      <td>0.519841</td>\n",
       "      <td>0.530452</td>\n",
       "      <td>0.527604</td>\n",
       "    </tr>\n",
       "    <tr>\n",
       "      <th>Bulgarians</th>\n",
       "      <td>0.582418</td>\n",
       "      <td>0.472296</td>\n",
       "      <td>0.509218</td>\n",
       "      <td>0.500000</td>\n",
       "      <td>0.607261</td>\n",
       "      <td>0.627119</td>\n",
       "      <td>0.590988</td>\n",
       "      <td>0.574772</td>\n",
       "      <td>0.538955</td>\n",
       "      <td>0.621572</td>\n",
       "      <td>...</td>\n",
       "      <td>0.562044</td>\n",
       "      <td>0.530333</td>\n",
       "      <td>0.603306</td>\n",
       "      <td>0.525210</td>\n",
       "      <td>0.558763</td>\n",
       "      <td>0.498299</td>\n",
       "      <td>0.478605</td>\n",
       "      <td>0.549784</td>\n",
       "      <td>0.544286</td>\n",
       "      <td>0.510189</td>\n",
       "    </tr>\n",
       "    <tr>\n",
       "      <th>Burgundians</th>\n",
       "      <td>0.401408</td>\n",
       "      <td>0.417582</td>\n",
       "      <td>0.432071</td>\n",
       "      <td>0.392739</td>\n",
       "      <td>0.500000</td>\n",
       "      <td>0.487805</td>\n",
       "      <td>0.496403</td>\n",
       "      <td>0.401070</td>\n",
       "      <td>0.434599</td>\n",
       "      <td>0.569106</td>\n",
       "      <td>...</td>\n",
       "      <td>0.556962</td>\n",
       "      <td>0.400000</td>\n",
       "      <td>0.475410</td>\n",
       "      <td>0.480916</td>\n",
       "      <td>0.442105</td>\n",
       "      <td>0.456376</td>\n",
       "      <td>0.392157</td>\n",
       "      <td>0.375000</td>\n",
       "      <td>0.469388</td>\n",
       "      <td>0.394464</td>\n",
       "    </tr>\n",
       "    <tr>\n",
       "      <th>Burmese</th>\n",
       "      <td>0.498221</td>\n",
       "      <td>0.448780</td>\n",
       "      <td>0.439331</td>\n",
       "      <td>0.372881</td>\n",
       "      <td>0.512195</td>\n",
       "      <td>0.500000</td>\n",
       "      <td>0.607843</td>\n",
       "      <td>0.432836</td>\n",
       "      <td>0.432787</td>\n",
       "      <td>0.493243</td>\n",
       "      <td>...</td>\n",
       "      <td>0.537736</td>\n",
       "      <td>0.432624</td>\n",
       "      <td>0.574468</td>\n",
       "      <td>0.533784</td>\n",
       "      <td>0.503106</td>\n",
       "      <td>0.348387</td>\n",
       "      <td>0.448276</td>\n",
       "      <td>0.489796</td>\n",
       "      <td>0.422360</td>\n",
       "      <td>0.429054</td>\n",
       "    </tr>\n",
       "    <tr>\n",
       "      <th>Byzantines</th>\n",
       "      <td>0.440708</td>\n",
       "      <td>0.465649</td>\n",
       "      <td>0.417066</td>\n",
       "      <td>0.409012</td>\n",
       "      <td>0.503597</td>\n",
       "      <td>0.392157</td>\n",
       "      <td>0.500000</td>\n",
       "      <td>0.408867</td>\n",
       "      <td>0.497238</td>\n",
       "      <td>0.489051</td>\n",
       "      <td>...</td>\n",
       "      <td>0.557576</td>\n",
       "      <td>0.516000</td>\n",
       "      <td>0.407143</td>\n",
       "      <td>0.436975</td>\n",
       "      <td>0.498113</td>\n",
       "      <td>0.509934</td>\n",
       "      <td>0.456825</td>\n",
       "      <td>0.467213</td>\n",
       "      <td>0.490463</td>\n",
       "      <td>0.397906</td>\n",
       "    </tr>\n",
       "    <tr>\n",
       "      <th>Celts</th>\n",
       "      <td>0.523688</td>\n",
       "      <td>0.488848</td>\n",
       "      <td>0.497922</td>\n",
       "      <td>0.425228</td>\n",
       "      <td>0.598930</td>\n",
       "      <td>0.567164</td>\n",
       "      <td>0.591133</td>\n",
       "      <td>0.500000</td>\n",
       "      <td>0.570225</td>\n",
       "      <td>0.614035</td>\n",
       "      <td>...</td>\n",
       "      <td>0.521739</td>\n",
       "      <td>0.577982</td>\n",
       "      <td>0.562130</td>\n",
       "      <td>0.556962</td>\n",
       "      <td>0.506098</td>\n",
       "      <td>0.542929</td>\n",
       "      <td>0.478803</td>\n",
       "      <td>0.547771</td>\n",
       "      <td>0.534351</td>\n",
       "      <td>0.475854</td>\n",
       "    </tr>\n",
       "    <tr>\n",
       "      <th>Chinese</th>\n",
       "      <td>0.470363</td>\n",
       "      <td>0.404664</td>\n",
       "      <td>0.439580</td>\n",
       "      <td>0.461045</td>\n",
       "      <td>0.565401</td>\n",
       "      <td>0.567213</td>\n",
       "      <td>0.502762</td>\n",
       "      <td>0.429775</td>\n",
       "      <td>0.500000</td>\n",
       "      <td>0.513636</td>\n",
       "      <td>...</td>\n",
       "      <td>0.552941</td>\n",
       "      <td>0.533613</td>\n",
       "      <td>0.532751</td>\n",
       "      <td>0.486081</td>\n",
       "      <td>0.525164</td>\n",
       "      <td>0.499160</td>\n",
       "      <td>0.464789</td>\n",
       "      <td>0.521839</td>\n",
       "      <td>0.503584</td>\n",
       "      <td>0.468826</td>\n",
       "    </tr>\n",
       "    <tr>\n",
       "      <th>Cumans</th>\n",
       "      <td>0.427435</td>\n",
       "      <td>0.403614</td>\n",
       "      <td>0.437573</td>\n",
       "      <td>0.378428</td>\n",
       "      <td>0.430894</td>\n",
       "      <td>0.506757</td>\n",
       "      <td>0.510949</td>\n",
       "      <td>0.385965</td>\n",
       "      <td>0.486364</td>\n",
       "      <td>0.500000</td>\n",
       "      <td>...</td>\n",
       "      <td>0.604790</td>\n",
       "      <td>0.483412</td>\n",
       "      <td>0.535714</td>\n",
       "      <td>0.433735</td>\n",
       "      <td>0.416667</td>\n",
       "      <td>0.467213</td>\n",
       "      <td>0.366667</td>\n",
       "      <td>0.483254</td>\n",
       "      <td>0.474747</td>\n",
       "      <td>0.419028</td>\n",
       "    </tr>\n",
       "  </tbody>\n",
       "</table>\n",
       "<p>10 rows × 37 columns</p>\n",
       "</div>"
      ],
      "text/plain": [
       "opponent_civ    Aztecs   Berbers   Britons  Bulgarians  Burgundians   Burmese  \\\n",
       "civ                                                                             \n",
       "Aztecs        0.500000  0.500657  0.506974    0.417582     0.598592  0.501779   \n",
       "Berbers       0.499343  0.500000  0.547112    0.527704     0.582418  0.551220   \n",
       "Britons       0.493026  0.452888  0.500000    0.490782     0.567929  0.560669   \n",
       "Bulgarians    0.582418  0.472296  0.509218    0.500000     0.607261  0.627119   \n",
       "Burgundians   0.401408  0.417582  0.432071    0.392739     0.500000  0.487805   \n",
       "Burmese       0.498221  0.448780  0.439331    0.372881     0.512195  0.500000   \n",
       "Byzantines    0.440708  0.465649  0.417066    0.409012     0.503597  0.392157   \n",
       "Celts         0.523688  0.488848  0.497922    0.425228     0.598930  0.567164   \n",
       "Chinese       0.470363  0.404664  0.439580    0.461045     0.565401  0.567213   \n",
       "Cumans        0.427435  0.403614  0.437573    0.378428     0.430894  0.506757   \n",
       "\n",
       "opponent_civ  Byzantines     Celts   Chinese    Cumans  ...  Portuguese  \\\n",
       "civ                                                     ...               \n",
       "Aztecs          0.559292  0.476312  0.529637  0.572565  ...    0.507692   \n",
       "Berbers         0.534351  0.511152  0.595336  0.596386  ...    0.645455   \n",
       "Britons         0.582934  0.502078  0.560420  0.562427  ...    0.594937   \n",
       "Bulgarians      0.590988  0.574772  0.538955  0.621572  ...    0.562044   \n",
       "Burgundians     0.496403  0.401070  0.434599  0.569106  ...    0.556962   \n",
       "Burmese         0.607843  0.432836  0.432787  0.493243  ...    0.537736   \n",
       "Byzantines      0.500000  0.408867  0.497238  0.489051  ...    0.557576   \n",
       "Celts           0.591133  0.500000  0.570225  0.614035  ...    0.521739   \n",
       "Chinese         0.502762  0.429775  0.500000  0.513636  ...    0.552941   \n",
       "Cumans          0.510949  0.385965  0.486364  0.500000  ...    0.604790   \n",
       "\n",
       "opponent_civ  Saracens  Sicilians     Slavs   Spanish    Tatars   Teutons  \\\n",
       "civ                                                                         \n",
       "Aztecs        0.534483   0.452107  0.462527  0.511983  0.561939  0.448657   \n",
       "Berbers       0.506361   0.568720  0.575342  0.583051  0.635714  0.514815   \n",
       "Britons       0.559538   0.521445  0.526841  0.569737  0.557114  0.523330   \n",
       "Bulgarians    0.530333   0.603306  0.525210  0.558763  0.498299  0.478605   \n",
       "Burgundians   0.400000   0.475410  0.480916  0.442105  0.456376  0.392157   \n",
       "Burmese       0.432624   0.574468  0.533784  0.503106  0.348387  0.448276   \n",
       "Byzantines    0.516000   0.407143  0.436975  0.498113  0.509934  0.456825   \n",
       "Celts         0.577982   0.562130  0.556962  0.506098  0.542929  0.478803   \n",
       "Chinese       0.533613   0.532751  0.486081  0.525164  0.499160  0.464789   \n",
       "Cumans        0.483412   0.535714  0.433735  0.416667  0.467213  0.366667   \n",
       "\n",
       "opponent_civ     Turks  Vietnamese   Vikings  \n",
       "civ                                           \n",
       "Aztecs        0.527594    0.537338  0.450041  \n",
       "Berbers       0.578947    0.614865  0.521837  \n",
       "Britons       0.519841    0.530452  0.527604  \n",
       "Bulgarians    0.549784    0.544286  0.510189  \n",
       "Burgundians   0.375000    0.469388  0.394464  \n",
       "Burmese       0.489796    0.422360  0.429054  \n",
       "Byzantines    0.467213    0.490463  0.397906  \n",
       "Celts         0.547771    0.534351  0.475854  \n",
       "Chinese       0.521839    0.503584  0.468826  \n",
       "Cumans        0.483254    0.474747  0.419028  \n",
       "\n",
       "[10 rows x 37 columns]"
      ]
     },
     "execution_count": 35,
     "metadata": {},
     "output_type": "execute_result"
    }
   ],
   "source": [
    "# Matriz cuadrada del porcentaje de victorias de civilizaciones vs el resto de civilizaciones.\n",
    "win_vs_singleplayer = vs_df.pivot_table(values=\"won\", index=\"civ\", columns=\"opponent_civ\")\n",
    "win_vs_singleplayer.head(10)"
   ]
  },
  {
   "cell_type": "code",
   "execution_count": 36,
   "metadata": {},
   "outputs": [
    {
     "data": {
      "text/plain": [
       "Text(0.5, 1.0, 'Porcentaje de Victorias de cada Civilización vs el resto de Civilizaciones')"
      ]
     },
     "execution_count": 36,
     "metadata": {},
     "output_type": "execute_result"
    },
    {
     "data": {
      "image/png": "[encoded data removed]",
      "text/plain": [
       "<Figure size 1008x720 with 2 Axes>"
      ]
     },
     "metadata": {
      "needs_background": "light"
     },
     "output_type": "display_data"
    }
   ],
   "source": [
    "from pylab import rcParams\n",
    "rcParams['figure.figsize'] = 14, 10\n",
    "sns.heatmap(win_vs_singleplayer, cmap=\"PuBu\")\n",
    "plt.ylabel(\"Civilización\")\n",
    "plt.xlabel(\"Civilización del oponente\")\n",
    "plt.title(\"Porcentaje de Victorias de cada Civilización vs el resto de Civilizaciones\")"
   ]
  },
  {
   "cell_type": "code",
   "execution_count": 37,
   "metadata": {},
   "outputs": [
    {
     "data": {
      "text/html": [
       "<div>\n",
       "<style scoped>\n",
       "    .dataframe tbody tr th:only-of-type {\n",
       "        vertical-align: middle;\n",
       "    }\n",
       "\n",
       "    .dataframe tbody tr th {\n",
       "        vertical-align: top;\n",
       "    }\n",
       "\n",
       "    .dataframe thead th {\n",
       "        text-align: right;\n",
       "    }\n",
       "</style>\n",
       "<table border=\"1\" class=\"dataframe\">\n",
       "  <thead>\n",
       "    <tr style=\"text-align: right;\">\n",
       "      <th></th>\n",
       "      <th>civ</th>\n",
       "      <th>opponent_civ</th>\n",
       "      <th>win_rate</th>\n",
       "    </tr>\n",
       "  </thead>\n",
       "  <tbody>\n",
       "    <tr>\n",
       "      <th>0</th>\n",
       "      <td>Indians</td>\n",
       "      <td>Turks</td>\n",
       "      <td>0.698718</td>\n",
       "    </tr>\n",
       "    <tr>\n",
       "      <th>1</th>\n",
       "      <td>Japanese</td>\n",
       "      <td>Burgundians</td>\n",
       "      <td>0.676259</td>\n",
       "    </tr>\n",
       "    <tr>\n",
       "      <th>2</th>\n",
       "      <td>Incas</td>\n",
       "      <td>Italians</td>\n",
       "      <td>0.657609</td>\n",
       "    </tr>\n",
       "    <tr>\n",
       "      <th>3</th>\n",
       "      <td>Ethiopians</td>\n",
       "      <td>Burgundians</td>\n",
       "      <td>0.653207</td>\n",
       "    </tr>\n",
       "    <tr>\n",
       "      <th>4</th>\n",
       "      <td>Tatars</td>\n",
       "      <td>Burmese</td>\n",
       "      <td>0.651613</td>\n",
       "    </tr>\n",
       "    <tr>\n",
       "      <th>5</th>\n",
       "      <td>Teutons</td>\n",
       "      <td>Portuguese</td>\n",
       "      <td>0.648485</td>\n",
       "    </tr>\n",
       "    <tr>\n",
       "      <th>6</th>\n",
       "      <td>Huns</td>\n",
       "      <td>Malay</td>\n",
       "      <td>0.646104</td>\n",
       "    </tr>\n",
       "    <tr>\n",
       "      <th>7</th>\n",
       "      <td>Berbers</td>\n",
       "      <td>Portuguese</td>\n",
       "      <td>0.645455</td>\n",
       "    </tr>\n",
       "    <tr>\n",
       "      <th>8</th>\n",
       "      <td>Mayans</td>\n",
       "      <td>Byzantines</td>\n",
       "      <td>0.643911</td>\n",
       "    </tr>\n",
       "    <tr>\n",
       "      <th>9</th>\n",
       "      <td>Teutons</td>\n",
       "      <td>Sicilians</td>\n",
       "      <td>0.642857</td>\n",
       "    </tr>\n",
       "    <tr>\n",
       "      <th>10</th>\n",
       "      <td>Incas</td>\n",
       "      <td>Burgundians</td>\n",
       "      <td>0.638889</td>\n",
       "    </tr>\n",
       "    <tr>\n",
       "      <th>11</th>\n",
       "      <td>Berbers</td>\n",
       "      <td>Italians</td>\n",
       "      <td>0.638655</td>\n",
       "    </tr>\n",
       "    <tr>\n",
       "      <th>12</th>\n",
       "      <td>Incas</td>\n",
       "      <td>Portuguese</td>\n",
       "      <td>0.635802</td>\n",
       "    </tr>\n",
       "    <tr>\n",
       "      <th>13</th>\n",
       "      <td>Berbers</td>\n",
       "      <td>Tatars</td>\n",
       "      <td>0.635714</td>\n",
       "    </tr>\n",
       "    <tr>\n",
       "      <th>14</th>\n",
       "      <td>Indians</td>\n",
       "      <td>Spanish</td>\n",
       "      <td>0.635036</td>\n",
       "    </tr>\n",
       "    <tr>\n",
       "      <th>15</th>\n",
       "      <td>Teutons</td>\n",
       "      <td>Cumans</td>\n",
       "      <td>0.633333</td>\n",
       "    </tr>\n",
       "    <tr>\n",
       "      <th>16</th>\n",
       "      <td>Franks</td>\n",
       "      <td>Turks</td>\n",
       "      <td>0.631373</td>\n",
       "    </tr>\n",
       "    <tr>\n",
       "      <th>17</th>\n",
       "      <td>Lithuanians</td>\n",
       "      <td>Burgundians</td>\n",
       "      <td>0.629121</td>\n",
       "    </tr>\n",
       "    <tr>\n",
       "      <th>18</th>\n",
       "      <td>Magyars</td>\n",
       "      <td>Koreans</td>\n",
       "      <td>0.628829</td>\n",
       "    </tr>\n",
       "    <tr>\n",
       "      <th>19</th>\n",
       "      <td>Mayans</td>\n",
       "      <td>Malay</td>\n",
       "      <td>0.627820</td>\n",
       "    </tr>\n",
       "    <tr>\n",
       "      <th>20</th>\n",
       "      <td>Franks</td>\n",
       "      <td>Malay</td>\n",
       "      <td>0.627451</td>\n",
       "    </tr>\n",
       "  </tbody>\n",
       "</table>\n",
       "</div>"
      ],
      "text/plain": [
       "            civ opponent_civ  win_rate\n",
       "0       Indians        Turks  0.698718\n",
       "1      Japanese  Burgundians  0.676259\n",
       "2         Incas     Italians  0.657609\n",
       "3    Ethiopians  Burgundians  0.653207\n",
       "4        Tatars      Burmese  0.651613\n",
       "5       Teutons   Portuguese  0.648485\n",
       "6          Huns        Malay  0.646104\n",
       "7       Berbers   Portuguese  0.645455\n",
       "8        Mayans   Byzantines  0.643911\n",
       "9       Teutons    Sicilians  0.642857\n",
       "10        Incas  Burgundians  0.638889\n",
       "11      Berbers     Italians  0.638655\n",
       "12        Incas   Portuguese  0.635802\n",
       "13      Berbers       Tatars  0.635714\n",
       "14      Indians      Spanish  0.635036\n",
       "15      Teutons       Cumans  0.633333\n",
       "16       Franks        Turks  0.631373\n",
       "17  Lithuanians  Burgundians  0.629121\n",
       "18      Magyars      Koreans  0.628829\n",
       "19       Mayans        Malay  0.627820\n",
       "20       Franks        Malay  0.627451"
      ]
     },
     "execution_count": 37,
     "metadata": {},
     "output_type": "execute_result"
    }
   ],
   "source": [
    "melted_win_vs_singleplayer = win_vs_singleplayer.unstack().reset_index().rename(columns={0: \"win_rate\"})\n",
    "melted_win_vs_singleplayer.sort_values(\"win_rate\").nlargest(10, columns=\"win_rate\").reset_index(drop=True)\n",
    "melted_win_vs_singleplayer = melted_win_vs_singleplayer[[\"civ\", \"opponent_civ\", \"win_rate\"]]\n",
    "melted_win_vs_singleplayer.nlargest(21, columns=\"win_rate\").reset_index(drop=True)"
   ]
  }
 ],
 "metadata": {
  "kernelspec": {
   "display_name": "Python 3",
   "language": "python",
   "name": "python3"
  },
  "language_info": {
   "codemirror_mode": {
    "name": "ipython",
    "version": 3
   },
   "file_extension": ".py",
   "mimetype": "text/x-python",
   "name": "python",
   "nbconvert_exporter": "python",
   "pygments_lexer": "ipython3",
   "version": "3.9.4"
  }
 },
 "nbformat": 4,
 "nbformat_minor": 4
}
