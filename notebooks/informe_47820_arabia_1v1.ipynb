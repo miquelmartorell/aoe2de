{
 "cells": [
  {
   "attachments": {},
   "cell_type": "markdown",
   "metadata": {},
   "source": [
    "## <center> AGE OF EMPIRES II: DE PATCH 47820 - ARABIA 1v1</center>\n",
    "\n",
    "![46295](https://static.ageofempires.com/aoe/wp-content/uploads/2021/04/AgeOfEmpires_2DE_UPDATE_2021.jpg)"
   ]
  },
  {
   "cell_type": "markdown",
   "metadata": {},
   "source": [
    "### ANÁLISIS EXPLORATORIO DE LOS DATOS."
   ]
  },
  {
   "cell_type": "markdown",
   "metadata": {},
   "source": [
    "#### LIBRERÍAS UTILIZADAS."
   ]
  },
  {
   "cell_type": "code",
   "execution_count": 1,
   "metadata": {},
   "outputs": [],
   "source": [
    "## Importación de datos.\n",
    "from sqlalchemy import create_engine\n",
    "\n",
    "## Tratamiento de datos.\n",
    "import pandas as pd\n",
    "import numpy as np\n",
    "\n",
    "## Gráficos.\n",
    "import matplotlib.pyplot as plt\n",
    "from matplotlib import style\n",
    "import seaborn as sns\n",
    "from pylab import rcParams\n",
    "rcParams['figure.figsize'] = 14, 10\n",
    "\n",
    "## Configuración warnings.\n",
    "import warnings\n",
    "warnings.filterwarnings('ignore')"
   ]
  },
  {
   "cell_type": "markdown",
   "metadata": {},
   "source": [
    "#### QUERY A LA BBDD DE MARIADB."
   ]
  },
  {
   "cell_type": "code",
   "execution_count": 2,
   "metadata": {
    "scrolled": true
   },
   "outputs": [],
   "source": [
    "# Nombre de usuario, contraseña y BBDD MySQL.\n",
    "mysql_address = '172.30.248.86'\n",
    "mysql_port = '3306'\n",
    "mysql_username = 'mms'\n",
    "mysql_password = 'agedb'\n",
    "mysql_dbname = 'aoe2de'\n",
    "\n",
    "# String que contiene la información necesaria para el login de MySQL.\n",
    "mysql_str = ('mysql+pymysql://{username}:{password}@{ipaddress}:{port}/{dbname}'\n",
    ".format(username = mysql_username,\n",
    "password = mysql_password,\n",
    "ipaddress = mysql_address,\n",
    "port = mysql_port,\n",
    "dbname = mysql_dbname))"
   ]
  },
  {
   "cell_type": "code",
   "execution_count": 3,
   "metadata": {},
   "outputs": [
    {
     "data": {
      "text/plain": [
       "(1326292, 12)"
      ]
     },
     "execution_count": 3,
     "metadata": {},
     "output_type": "execute_result"
    }
   ],
   "source": [
    "# Query para importar los datos desde MySQL.\n",
    "cnx = create_engine(mysql_str)\n",
    "query = f\"\"\"\n",
    "SELECT\n",
    "        matches.match_id,\n",
    "        matches.version,\n",
    "        matches.server,\n",
    "        matches.duration_minutes,\n",
    "        players.profile_id,\n",
    "        players.player_name,\n",
    "        players.country,\n",
    "        players.rating,\n",
    "        players.color,\n",
    "        players.team,\n",
    "        players.civ,\n",
    "        players.won\n",
    "FROM\n",
    "    matches, players\n",
    "WHERE\n",
    "    matches.match_id = players.match_id\n",
    "AND\n",
    "    matches.version = '47820'\n",
    "AND\n",
    "    matches.map_type = 'Arabia'\n",
    "AND\n",
    "    matches.rating_type = '1v1 Random Map'\n",
    "\"\"\"\n",
    "df = pd.read_sql_query(query, con=cnx)\n",
    "df.shape"
   ]
  },
  {
   "cell_type": "markdown",
   "metadata": {},
   "source": [
    "#### PREVISUALIZACIÓN DEL DATASET."
   ]
  },
  {
   "cell_type": "code",
   "execution_count": 4,
   "metadata": {
    "scrolled": true
   },
   "outputs": [
    {
     "data": {
      "text/html": [
       "<div>\n",
       "<style scoped>\n",
       "    .dataframe tbody tr th:only-of-type {\n",
       "        vertical-align: middle;\n",
       "    }\n",
       "\n",
       "    .dataframe tbody tr th {\n",
       "        vertical-align: top;\n",
       "    }\n",
       "\n",
       "    .dataframe thead th {\n",
       "        text-align: right;\n",
       "    }\n",
       "</style>\n",
       "<table border=\"1\" class=\"dataframe\">\n",
       "  <thead>\n",
       "    <tr style=\"text-align: right;\">\n",
       "      <th></th>\n",
       "      <th>match_id</th>\n",
       "      <th>version</th>\n",
       "      <th>server</th>\n",
       "      <th>duration_minutes</th>\n",
       "      <th>profile_id</th>\n",
       "      <th>player_name</th>\n",
       "      <th>country</th>\n",
       "      <th>rating</th>\n",
       "      <th>color</th>\n",
       "      <th>team</th>\n",
       "      <th>civ</th>\n",
       "      <th>won</th>\n",
       "    </tr>\n",
       "  </thead>\n",
       "  <tbody>\n",
       "    <tr>\n",
       "      <th>0</th>\n",
       "      <td>88924823</td>\n",
       "      <td>47820</td>\n",
       "      <td>brazilsouth</td>\n",
       "      <td>34</td>\n",
       "      <td>1809052</td>\n",
       "      <td>SalvadorLimones</td>\n",
       "      <td>AR</td>\n",
       "      <td>941.0</td>\n",
       "      <td>blue</td>\n",
       "      <td>2</td>\n",
       "      <td>Vikings</td>\n",
       "      <td>0</td>\n",
       "    </tr>\n",
       "    <tr>\n",
       "      <th>1</th>\n",
       "      <td>88924823</td>\n",
       "      <td>47820</td>\n",
       "      <td>brazilsouth</td>\n",
       "      <td>34</td>\n",
       "      <td>4754263</td>\n",
       "      <td>ElefantAzul</td>\n",
       "      <td>UY</td>\n",
       "      <td>939.0</td>\n",
       "      <td>red</td>\n",
       "      <td>1</td>\n",
       "      <td>Saracens</td>\n",
       "      <td>1</td>\n",
       "    </tr>\n",
       "    <tr>\n",
       "      <th>2</th>\n",
       "      <td>88924912</td>\n",
       "      <td>47820</td>\n",
       "      <td>brazilsouth</td>\n",
       "      <td>19</td>\n",
       "      <td>1909434</td>\n",
       "      <td>susiladama</td>\n",
       "      <td>CL</td>\n",
       "      <td>NaN</td>\n",
       "      <td>yellow</td>\n",
       "      <td>1</td>\n",
       "      <td>Mayans</td>\n",
       "      <td>1</td>\n",
       "    </tr>\n",
       "    <tr>\n",
       "      <th>3</th>\n",
       "      <td>88924912</td>\n",
       "      <td>47820</td>\n",
       "      <td>brazilsouth</td>\n",
       "      <td>19</td>\n",
       "      <td>2609789</td>\n",
       "      <td>Nestor Majno</td>\n",
       "      <td>UY</td>\n",
       "      <td>974.0</td>\n",
       "      <td>green</td>\n",
       "      <td>2</td>\n",
       "      <td>Japanese</td>\n",
       "      <td>0</td>\n",
       "    </tr>\n",
       "    <tr>\n",
       "      <th>4</th>\n",
       "      <td>88924915</td>\n",
       "      <td>47820</td>\n",
       "      <td>eastus</td>\n",
       "      <td>19</td>\n",
       "      <td>2071119</td>\n",
       "      <td>WOLOLOCO</td>\n",
       "      <td>US</td>\n",
       "      <td>1072.0</td>\n",
       "      <td>blue</td>\n",
       "      <td>2</td>\n",
       "      <td>Mayans</td>\n",
       "      <td>0</td>\n",
       "    </tr>\n",
       "    <tr>\n",
       "      <th>5</th>\n",
       "      <td>88924915</td>\n",
       "      <td>47820</td>\n",
       "      <td>eastus</td>\n",
       "      <td>19</td>\n",
       "      <td>3230134</td>\n",
       "      <td>Oh Boy !</td>\n",
       "      <td>TR</td>\n",
       "      <td>1097.0</td>\n",
       "      <td>red</td>\n",
       "      <td>1</td>\n",
       "      <td>Magyars</td>\n",
       "      <td>1</td>\n",
       "    </tr>\n",
       "    <tr>\n",
       "      <th>6</th>\n",
       "      <td>88924920</td>\n",
       "      <td>47820</td>\n",
       "      <td>ukwest</td>\n",
       "      <td>18</td>\n",
       "      <td>294305</td>\n",
       "      <td>MadBeaver</td>\n",
       "      <td>CA</td>\n",
       "      <td>1647.0</td>\n",
       "      <td>red</td>\n",
       "      <td>1</td>\n",
       "      <td>Burgundians</td>\n",
       "      <td>0</td>\n",
       "    </tr>\n",
       "    <tr>\n",
       "      <th>7</th>\n",
       "      <td>88924920</td>\n",
       "      <td>47820</td>\n",
       "      <td>ukwest</td>\n",
       "      <td>18</td>\n",
       "      <td>455498</td>\n",
       "      <td>Yuki</td>\n",
       "      <td>DE</td>\n",
       "      <td>1660.0</td>\n",
       "      <td>blue</td>\n",
       "      <td>2</td>\n",
       "      <td>Mayans</td>\n",
       "      <td>1</td>\n",
       "    </tr>\n",
       "    <tr>\n",
       "      <th>8</th>\n",
       "      <td>88924992</td>\n",
       "      <td>47820</td>\n",
       "      <td>brazilsouth</td>\n",
       "      <td>27</td>\n",
       "      <td>2089088</td>\n",
       "      <td>AegonStark</td>\n",
       "      <td>MX</td>\n",
       "      <td>1264.0</td>\n",
       "      <td>red</td>\n",
       "      <td>1</td>\n",
       "      <td>Khmer</td>\n",
       "      <td>1</td>\n",
       "    </tr>\n",
       "    <tr>\n",
       "      <th>9</th>\n",
       "      <td>88924992</td>\n",
       "      <td>47820</td>\n",
       "      <td>brazilsouth</td>\n",
       "      <td>27</td>\n",
       "      <td>2609835</td>\n",
       "      <td>ElPichichi</td>\n",
       "      <td>AR</td>\n",
       "      <td>1265.0</td>\n",
       "      <td>blue</td>\n",
       "      <td>2</td>\n",
       "      <td>Franks</td>\n",
       "      <td>0</td>\n",
       "    </tr>\n",
       "  </tbody>\n",
       "</table>\n",
       "</div>"
      ],
      "text/plain": [
       "   match_id  version       server  duration_minutes  profile_id  \\\n",
       "0  88924823    47820  brazilsouth                34     1809052   \n",
       "1  88924823    47820  brazilsouth                34     4754263   \n",
       "2  88924912    47820  brazilsouth                19     1909434   \n",
       "3  88924912    47820  brazilsouth                19     2609789   \n",
       "4  88924915    47820       eastus                19     2071119   \n",
       "5  88924915    47820       eastus                19     3230134   \n",
       "6  88924920    47820       ukwest                18      294305   \n",
       "7  88924920    47820       ukwest                18      455498   \n",
       "8  88924992    47820  brazilsouth                27     2089088   \n",
       "9  88924992    47820  brazilsouth                27     2609835   \n",
       "\n",
       "       player_name country  rating   color  team          civ  won  \n",
       "0  SalvadorLimones      AR   941.0    blue     2      Vikings    0  \n",
       "1      ElefantAzul      UY   939.0     red     1     Saracens    1  \n",
       "2       susiladama      CL     NaN  yellow     1       Mayans    1  \n",
       "3     Nestor Majno      UY   974.0   green     2     Japanese    0  \n",
       "4         WOLOLOCO      US  1072.0    blue     2       Mayans    0  \n",
       "5         Oh Boy !      TR  1097.0     red     1      Magyars    1  \n",
       "6        MadBeaver      CA  1647.0     red     1  Burgundians    0  \n",
       "7             Yuki      DE  1660.0    blue     2       Mayans    1  \n",
       "8       AegonStark      MX  1264.0     red     1        Khmer    1  \n",
       "9       ElPichichi      AR  1265.0    blue     2       Franks    0  "
      ]
     },
     "execution_count": 4,
     "metadata": {},
     "output_type": "execute_result"
    }
   ],
   "source": [
    "# Observamos los primeros 10 valores para ver que se han cargado correctamente.\n",
    "df.head(10)"
   ]
  },
  {
   "cell_type": "code",
   "execution_count": 5,
   "metadata": {},
   "outputs": [
    {
     "data": {
      "text/plain": [
       "match_id                0\n",
       "version                 0\n",
       "server                  0\n",
       "duration_minutes        0\n",
       "profile_id              0\n",
       "player_name             3\n",
       "country             67133\n",
       "rating              46304\n",
       "color                   4\n",
       "team                    0\n",
       "civ                     0\n",
       "won                     0\n",
       "dtype: int64"
      ]
     },
     "execution_count": 5,
     "metadata": {},
     "output_type": "execute_result"
    }
   ],
   "source": [
    "# Comprobación de valores NaN en el dataset.\n",
    "df.isna().sum()"
   ]
  },
  {
   "cell_type": "code",
   "execution_count": 6,
   "metadata": {},
   "outputs": [],
   "source": [
    "# Rellenar valores vacíos de las varibales \"color\" y \"country\".\n",
    "df.color.fillna(\"unknown\", inplace=True)\n",
    "df.country.fillna(\"UNKNOWN\", inplace=True)"
   ]
  },
  {
   "cell_type": "code",
   "execution_count": 7,
   "metadata": {},
   "outputs": [
    {
     "name": "stdout",
     "output_type": "stream",
     "text": [
      "Total partidas: 663146\n"
     ]
    }
   ],
   "source": [
    "total_partidas = len(df.match_id.unique())\n",
    "print(\"Total partidas: \" + str(total_partidas))"
   ]
  },
  {
   "cell_type": "markdown",
   "metadata": {},
   "source": [
    "#### Civilizaciones."
   ]
  },
  {
   "cell_type": "code",
   "execution_count": 8,
   "metadata": {},
   "outputs": [],
   "source": [
    "# Obtener los valores únicos de la variable \"civ\".\n",
    "sorted_civs = df.civ.unique().tolist()\n",
    "sorted_civs.sort()"
   ]
  },
  {
   "cell_type": "code",
   "execution_count": 9,
   "metadata": {},
   "outputs": [],
   "source": [
    "def get_frequency_rates_by_civ(df):\n",
    "    return pd.DataFrame(df.civ.value_counts(normalize=True)).reset_index().rename(columns={\"index\": \"civ\", \"civ\": \"frequency\"})"
   ]
  },
  {
   "cell_type": "code",
   "execution_count": 10,
   "metadata": {},
   "outputs": [],
   "source": [
    "frequency_civs_singleplayer = get_frequency_rates_by_civ(df)"
   ]
  },
  {
   "cell_type": "code",
   "execution_count": 11,
   "metadata": {},
   "outputs": [],
   "source": [
    "def get_win_rates_by_civ(df):\n",
    "    return (\n",
    "        df.groupby(\"civ\")[\"won\"]\n",
    "            .mean()\n",
    "            .reset_index()\n",
    "            .rename(columns={\"won\": \"win_rate\"})\n",
    "            .sort_values(\"win_rate\", ascending=False)\n",
    "            .reset_index(drop=True)\n",
    "    )"
   ]
  },
  {
   "cell_type": "code",
   "execution_count": 12,
   "metadata": {},
   "outputs": [],
   "source": [
    "winrate_civs_singleplayer = get_win_rates_by_civ(df)"
   ]
  },
  {
   "cell_type": "markdown",
   "metadata": {},
   "source": [
    "#### Colores."
   ]
  },
  {
   "cell_type": "code",
   "execution_count": 13,
   "metadata": {},
   "outputs": [],
   "source": [
    "# Obtener los valores únicos de la variable \"color\".\n",
    "sorted_colors = df.color.unique().tolist()\n",
    "sorted_colors.sort()"
   ]
  },
  {
   "cell_type": "code",
   "execution_count": 14,
   "metadata": {},
   "outputs": [],
   "source": [
    "def get_frequency_rates_by_color(df):\n",
    "    return pd.DataFrame(df.color.value_counts(normalize=True)).reset_index().rename(columns={\"index\": \"color\", \"color\": \"frequency\"})"
   ]
  },
  {
   "cell_type": "code",
   "execution_count": 15,
   "metadata": {},
   "outputs": [],
   "source": [
    "frequency_colors_singleplayer = get_frequency_rates_by_color(df)"
   ]
  },
  {
   "cell_type": "markdown",
   "metadata": {},
   "source": [
    "#### Servidores."
   ]
  },
  {
   "cell_type": "code",
   "execution_count": 16,
   "metadata": {},
   "outputs": [],
   "source": [
    "# Obtener los valores únicos de la variable \"server\".\n",
    "sorted_servers = df.server.unique().tolist()\n",
    "sorted_servers.sort()"
   ]
  },
  {
   "cell_type": "code",
   "execution_count": 17,
   "metadata": {},
   "outputs": [],
   "source": [
    "def get_frequency_rates_by_server(df):\n",
    "    return pd.DataFrame(df.server.value_counts(normalize=True)).reset_index().rename(columns={\"index\": \"server\", \"server\": \"frequency\"})"
   ]
  },
  {
   "cell_type": "code",
   "execution_count": 18,
   "metadata": {},
   "outputs": [],
   "source": [
    "frequency_server_singleplayer = get_frequency_rates_by_server(df)"
   ]
  },
  {
   "cell_type": "markdown",
   "metadata": {},
   "source": [
    "#### Países."
   ]
  },
  {
   "cell_type": "code",
   "execution_count": 19,
   "metadata": {},
   "outputs": [],
   "source": [
    "# Obtener los valores únicos de la variable \"country\".\n",
    "sorted_countries= df.country.unique().tolist()\n",
    "sorted_countries.sort()"
   ]
  },
  {
   "cell_type": "code",
   "execution_count": 20,
   "metadata": {},
   "outputs": [],
   "source": [
    "def get_frequency_rates_by_country(df):\n",
    "    return pd.DataFrame(df.country.value_counts(normalize=True)).reset_index().rename(columns={\"index\": \"country\", \"country\": \"frequency\"})"
   ]
  },
  {
   "cell_type": "code",
   "execution_count": 21,
   "metadata": {},
   "outputs": [],
   "source": [
    "frequency_country_singleplayer = get_frequency_rates_by_country(df)"
   ]
  },
  {
   "cell_type": "markdown",
   "metadata": {},
   "source": [
    "#### ANÁLISIS PARTIDAS 1v1."
   ]
  },
  {
   "cell_type": "code",
   "execution_count": 22,
   "metadata": {},
   "outputs": [
    {
     "data": {
      "text/plain": [
       "match_id                0\n",
       "version                 0\n",
       "server                  0\n",
       "duration_minutes        0\n",
       "profile_id              0\n",
       "player_name             3\n",
       "country                 0\n",
       "rating              46304\n",
       "color                   0\n",
       "team                    0\n",
       "civ                     0\n",
       "won                     0\n",
       "dtype: int64"
      ]
     },
     "execution_count": 22,
     "metadata": {},
     "output_type": "execute_result"
    }
   ],
   "source": [
    "# Comprobación de valores NaN de cada variable.\n",
    "df.isna().sum()"
   ]
  },
  {
   "cell_type": "code",
   "execution_count": 23,
   "metadata": {},
   "outputs": [
    {
     "data": {
      "text/html": [
       "<div>\n",
       "<style scoped>\n",
       "    .dataframe tbody tr th:only-of-type {\n",
       "        vertical-align: middle;\n",
       "    }\n",
       "\n",
       "    .dataframe tbody tr th {\n",
       "        vertical-align: top;\n",
       "    }\n",
       "\n",
       "    .dataframe thead th {\n",
       "        text-align: right;\n",
       "    }\n",
       "</style>\n",
       "<table border=\"1\" class=\"dataframe\">\n",
       "  <thead>\n",
       "    <tr style=\"text-align: right;\">\n",
       "      <th></th>\n",
       "      <th>match_id</th>\n",
       "      <th>version</th>\n",
       "      <th>duration_minutes</th>\n",
       "      <th>profile_id</th>\n",
       "      <th>rating</th>\n",
       "      <th>team</th>\n",
       "      <th>won</th>\n",
       "    </tr>\n",
       "  </thead>\n",
       "  <tbody>\n",
       "    <tr>\n",
       "      <th>count</th>\n",
       "      <td>1.326292e+06</td>\n",
       "      <td>1326292.0</td>\n",
       "      <td>1.326292e+06</td>\n",
       "      <td>1.326292e+06</td>\n",
       "      <td>1.279988e+06</td>\n",
       "      <td>1326292.0</td>\n",
       "      <td>1326292.0</td>\n",
       "    </tr>\n",
       "    <tr>\n",
       "      <th>mean</th>\n",
       "      <td>9.587248e+07</td>\n",
       "      <td>47820.0</td>\n",
       "      <td>2.432248e+01</td>\n",
       "      <td>2.530203e+06</td>\n",
       "      <td>1.187663e+03</td>\n",
       "      <td>1.5</td>\n",
       "      <td>0.5</td>\n",
       "    </tr>\n",
       "    <tr>\n",
       "      <th>std</th>\n",
       "      <td>3.967299e+06</td>\n",
       "      <td>0.0</td>\n",
       "      <td>1.108719e+01</td>\n",
       "      <td>1.684542e+06</td>\n",
       "      <td>3.002317e+02</td>\n",
       "      <td>0.5</td>\n",
       "      <td>0.5</td>\n",
       "    </tr>\n",
       "    <tr>\n",
       "      <th>min</th>\n",
       "      <td>8.892482e+07</td>\n",
       "      <td>47820.0</td>\n",
       "      <td>0.000000e+00</td>\n",
       "      <td>1.530000e+02</td>\n",
       "      <td>8.000000e+00</td>\n",
       "      <td>1.0</td>\n",
       "      <td>0.0</td>\n",
       "    </tr>\n",
       "    <tr>\n",
       "      <th>25%</th>\n",
       "      <td>9.250045e+07</td>\n",
       "      <td>47820.0</td>\n",
       "      <td>1.800000e+01</td>\n",
       "      <td>1.043150e+06</td>\n",
       "      <td>9.800000e+02</td>\n",
       "      <td>1.0</td>\n",
       "      <td>0.0</td>\n",
       "    </tr>\n",
       "    <tr>\n",
       "      <th>50%</th>\n",
       "      <td>9.576716e+07</td>\n",
       "      <td>47820.0</td>\n",
       "      <td>2.400000e+01</td>\n",
       "      <td>2.387461e+06</td>\n",
       "      <td>1.146000e+03</td>\n",
       "      <td>1.5</td>\n",
       "      <td>0.5</td>\n",
       "    </tr>\n",
       "    <tr>\n",
       "      <th>75%</th>\n",
       "      <td>9.941410e+07</td>\n",
       "      <td>47820.0</td>\n",
       "      <td>3.000000e+01</td>\n",
       "      <td>3.571718e+06</td>\n",
       "      <td>1.353000e+03</td>\n",
       "      <td>2.0</td>\n",
       "      <td>1.0</td>\n",
       "    </tr>\n",
       "    <tr>\n",
       "      <th>max</th>\n",
       "      <td>1.026707e+08</td>\n",
       "      <td>47820.0</td>\n",
       "      <td>2.400000e+02</td>\n",
       "      <td>6.079998e+06</td>\n",
       "      <td>2.640000e+03</td>\n",
       "      <td>2.0</td>\n",
       "      <td>1.0</td>\n",
       "    </tr>\n",
       "  </tbody>\n",
       "</table>\n",
       "</div>"
      ],
      "text/plain": [
       "           match_id    version  duration_minutes    profile_id        rating  \\\n",
       "count  1.326292e+06  1326292.0      1.326292e+06  1.326292e+06  1.279988e+06   \n",
       "mean   9.587248e+07    47820.0      2.432248e+01  2.530203e+06  1.187663e+03   \n",
       "std    3.967299e+06        0.0      1.108719e+01  1.684542e+06  3.002317e+02   \n",
       "min    8.892482e+07    47820.0      0.000000e+00  1.530000e+02  8.000000e+00   \n",
       "25%    9.250045e+07    47820.0      1.800000e+01  1.043150e+06  9.800000e+02   \n",
       "50%    9.576716e+07    47820.0      2.400000e+01  2.387461e+06  1.146000e+03   \n",
       "75%    9.941410e+07    47820.0      3.000000e+01  3.571718e+06  1.353000e+03   \n",
       "max    1.026707e+08    47820.0      2.400000e+02  6.079998e+06  2.640000e+03   \n",
       "\n",
       "            team        won  \n",
       "count  1326292.0  1326292.0  \n",
       "mean         1.5        0.5  \n",
       "std          0.5        0.5  \n",
       "min          1.0        0.0  \n",
       "25%          1.0        0.0  \n",
       "50%          1.5        0.5  \n",
       "75%          2.0        1.0  \n",
       "max          2.0        1.0  "
      ]
     },
     "execution_count": 23,
     "metadata": {},
     "output_type": "execute_result"
    }
   ],
   "source": [
    "df.describe()"
   ]
  },
  {
   "cell_type": "code",
   "execution_count": 24,
   "metadata": {},
   "outputs": [
    {
     "data": {
      "text/plain": [
       "Text(0.5, 0, 'ELO')"
      ]
     },
     "execution_count": 24,
     "metadata": {},
     "output_type": "execute_result"
    },
    {
     "data": {
      "image/png": "[encoded data removed]",
      "text/plain": [
       "<Figure size 1008x720 with 1 Axes>"
      ]
     },
     "metadata": {
      "needs_background": "light"
     },
     "output_type": "display_data"
    }
   ],
   "source": [
    "ax = sns.histplot(df.rating, stat=\"count\", kde=\"True\")\n",
    "ax.set_title('Histograma ELO 1v1')\n",
    "ax.set_ylabel('Recuento')\n",
    "ax.set_xlabel('ELO')"
   ]
  },
  {
   "cell_type": "code",
   "execution_count": 25,
   "metadata": {},
   "outputs": [
    {
     "data": {
      "text/plain": [
       "<AxesSubplot:xlabel='rating'>"
      ]
     },
     "execution_count": 25,
     "metadata": {},
     "output_type": "execute_result"
    },
    {
     "data": {
      "image/png": "[encoded data removed]",
      "text/plain": [
       "<Figure size 1008x720 with 1 Axes>"
      ]
     },
     "metadata": {
      "needs_background": "light"
     },
     "output_type": "display_data"
    }
   ],
   "source": [
    "sns.boxplot(df.rating)"
   ]
  },
  {
   "cell_type": "code",
   "execution_count": 26,
   "metadata": {},
   "outputs": [
    {
     "data": {
      "text/plain": [
       "Text(0.5, 0, 'Duración en minutos')"
      ]
     },
     "execution_count": 26,
     "metadata": {},
     "output_type": "execute_result"
    },
    {
     "data": {
      "image/png": "[encoded data removed]",
      "text/plain": [
       "<Figure size 1008x720 with 1 Axes>"
      ]
     },
     "metadata": {
      "needs_background": "light"
     },
     "output_type": "display_data"
    }
   ],
   "source": [
    "ax = sns.histplot(df.duration_minutes)\n",
    "plt.xlim(0, 100)\n",
    "ax.set_title('Histograma Duración Partidas 1v1')\n",
    "ax.set_ylabel('Recuento')\n",
    "ax.set_xlabel('Duración en minutos')"
   ]
  },
  {
   "cell_type": "code",
   "execution_count": 27,
   "metadata": {},
   "outputs": [
    {
     "data": {
      "text/plain": [
       "<AxesSubplot:xlabel='duration_minutes'>"
      ]
     },
     "execution_count": 27,
     "metadata": {},
     "output_type": "execute_result"
    },
    {
     "data": {
      "image/png": "[encoded data removed]",
      "text/plain": [
       "<Figure size 1008x720 with 1 Axes>"
      ]
     },
     "metadata": {
      "needs_background": "light"
     },
     "output_type": "display_data"
    }
   ],
   "source": [
    "sns.boxplot(df.duration_minutes)"
   ]
  },
  {
   "cell_type": "code",
   "execution_count": 28,
   "metadata": {},
   "outputs": [
    {
     "data": {
      "text/plain": [
       "Text(0.5, 1.0, '% de Uso de Civilizaciones en partidas 1v1')"
      ]
     },
     "execution_count": 28,
     "metadata": {},
     "output_type": "execute_result"
    },
    {
     "data": {
      "image/png": "[encoded data removed]",
      "text/plain": [
       "<Figure size 504x504 with 1 Axes>"
      ]
     },
     "metadata": {
      "needs_background": "light"
     },
     "output_type": "display_data"
    }
   ],
   "source": [
    "sns.catplot(y=\"civ\", x=\"frequency\",  data=frequency_civs_singleplayer, saturation=.5, kind=\"bar\", ci=None, aspect=1, height=7)\n",
    "plt.ylabel(\"Civilización\")\n",
    "plt.xlabel(\"% de Uso\")\n",
    "plt.title(\"% de Uso de Civilizaciones en partidas 1v1\")"
   ]
  },
  {
   "cell_type": "code",
   "execution_count": 29,
   "metadata": {},
   "outputs": [
    {
     "data": {
      "text/plain": [
       "Text(0.5, 1.0, 'Porcentaje de Victorias de Civilizaciones en partidas 1v1')"
      ]
     },
     "execution_count": 29,
     "metadata": {},
     "output_type": "execute_result"
    },
    {
     "data": {
      "image/png": "[encoded data removed]",
      "text/plain": [
       "<Figure size 504x504 with 1 Axes>"
      ]
     },
     "metadata": {
      "needs_background": "light"
     },
     "output_type": "display_data"
    }
   ],
   "source": [
    "sns.catplot(y=\"civ\", x=\"win_rate\",  data=winrate_civs_singleplayer, saturation=.5, kind=\"bar\", ci=None, aspect=1, height=7)\n",
    "plt.ylabel(\"Civilización\")\n",
    "plt.xlabel(\"% de Victorias\")\n",
    "lim_sup = float(winrate_civs_singleplayer.win_rate.head(1) + 0.01)\n",
    "lim_inf = float(winrate_civs_singleplayer.win_rate.tail(1) - 0.01)\n",
    "plt.xlim(lim_inf, lim_sup)\n",
    "plt.title(\"Porcentaje de Victorias de Civilizaciones en partidas 1v1\")"
   ]
  },
  {
   "cell_type": "code",
   "execution_count": 30,
   "metadata": {
    "scrolled": false
   },
   "outputs": [
    {
     "data": {
      "text/plain": [
       "Text(0.5, 1.0, '% de Partidas por Color en partidas 1v1')"
      ]
     },
     "execution_count": 30,
     "metadata": {},
     "output_type": "execute_result"
    },
    {
     "data": {
      "image/png": "[encoded data removed]",
      "text/plain": [
       "<Figure size 504x504 with 1 Axes>"
      ]
     },
     "metadata": {
      "needs_background": "light"
     },
     "output_type": "display_data"
    }
   ],
   "source": [
    "sns.catplot(y=\"color\", x=\"frequency\",  data=frequency_colors_singleplayer, saturation=.5, kind=\"bar\", ci=None, aspect=1, height=7)\n",
    "plt.ylabel(\"Color\")\n",
    "plt.xlabel(\"% de Partidas\")\n",
    "plt.title(\"% de Partidas por Color en partidas 1v1\")"
   ]
  },
  {
   "cell_type": "code",
   "execution_count": 31,
   "metadata": {},
   "outputs": [
    {
     "data": {
      "text/plain": [
       "Text(0.5, 1.0, '% de Partidas por Servidor en partidas 1v1')"
      ]
     },
     "execution_count": 31,
     "metadata": {},
     "output_type": "execute_result"
    },
    {
     "data": {
      "image/png": "[encoded data removed]",
      "text/plain": [
       "<Figure size 504x504 with 1 Axes>"
      ]
     },
     "metadata": {
      "needs_background": "light"
     },
     "output_type": "display_data"
    }
   ],
   "source": [
    "sns.catplot(y=\"server\", x=\"frequency\",  data=frequency_server_singleplayer, saturation=.5, kind=\"bar\", ci=None, aspect=1, height=7)\n",
    "plt.ylabel(\"Servidor\")\n",
    "plt.xlabel(\"% de Partidas\")\n",
    "plt.title(\"% de Partidas por Servidor en partidas 1v1\")"
   ]
  },
  {
   "cell_type": "code",
   "execution_count": 32,
   "metadata": {},
   "outputs": [
    {
     "data": {
      "text/plain": [
       "Text(0.5, 1.0, '% de Partidas por Nacionalidad en partidas 1v1')"
      ]
     },
     "execution_count": 32,
     "metadata": {},
     "output_type": "execute_result"
    },
    {
     "data": {
      "image/png": "[encoded data removed]",
      "text/plain": [
       "<Figure size 504x504 with 1 Axes>"
      ]
     },
     "metadata": {
      "needs_background": "light"
     },
     "output_type": "display_data"
    }
   ],
   "source": [
    "frequency_country_singleplayer = frequency_country_singleplayer.head(50)\n",
    "sns.catplot(y=\"country\", x=\"frequency\",  data=frequency_country_singleplayer, saturation=.5, kind=\"bar\", ci=None, aspect=1, height=7)\n",
    "plt.ylabel(\"Nacionalidad\")\n",
    "plt.xlabel(\"% de Partidas\")\n",
    "plt.title(\"% de Partidas por Nacionalidad en partidas 1v1\")"
   ]
  },
  {
   "cell_type": "code",
   "execution_count": 33,
   "metadata": {},
   "outputs": [],
   "source": [
    "renames_singleplayer = {\n",
    "    \"profile_id\": \"opponent\",\n",
    "    \"civ\": \"opponent_civ\",\n",
    "}\n",
    "opponents_singleplayer = df[[\"match_id\", \"profile_id\", \"civ\"]].rename(columns=renames_singleplayer)\n",
    "vs_df = pd.merge(df, opponents_singleplayer, left_on=\"match_id\", right_on=\"match_id\").rename(columns={\"profile_id\": \"player\"})\n",
    "\n",
    "# Dado que hemos fusionado el mismo marco de datos un jugador será un oponente de sí mismo, debemos eliminar esas filas.\n",
    "vs_df = vs_df[vs_df[\"player\"] != vs_df[\"opponent\"]]\n",
    "vs_df = vs_df[[\"match_id\", \"player\", \"opponent\", \"civ\", \"opponent_civ\", \"won\"]]"
   ]
  },
  {
   "cell_type": "code",
   "execution_count": 34,
   "metadata": {},
   "outputs": [
    {
     "data": {
      "text/html": [
       "<div>\n",
       "<style scoped>\n",
       "    .dataframe tbody tr th:only-of-type {\n",
       "        vertical-align: middle;\n",
       "    }\n",
       "\n",
       "    .dataframe tbody tr th {\n",
       "        vertical-align: top;\n",
       "    }\n",
       "\n",
       "    .dataframe thead th {\n",
       "        text-align: right;\n",
       "    }\n",
       "</style>\n",
       "<table border=\"1\" class=\"dataframe\">\n",
       "  <thead>\n",
       "    <tr style=\"text-align: right;\">\n",
       "      <th></th>\n",
       "      <th>match_id</th>\n",
       "      <th>player</th>\n",
       "      <th>opponent</th>\n",
       "      <th>civ</th>\n",
       "      <th>opponent_civ</th>\n",
       "      <th>won</th>\n",
       "    </tr>\n",
       "  </thead>\n",
       "  <tbody>\n",
       "    <tr>\n",
       "      <th>1</th>\n",
       "      <td>88924823</td>\n",
       "      <td>1809052</td>\n",
       "      <td>4754263</td>\n",
       "      <td>Vikings</td>\n",
       "      <td>Saracens</td>\n",
       "      <td>0</td>\n",
       "    </tr>\n",
       "    <tr>\n",
       "      <th>2</th>\n",
       "      <td>88924823</td>\n",
       "      <td>4754263</td>\n",
       "      <td>1809052</td>\n",
       "      <td>Saracens</td>\n",
       "      <td>Vikings</td>\n",
       "      <td>1</td>\n",
       "    </tr>\n",
       "    <tr>\n",
       "      <th>5</th>\n",
       "      <td>88924912</td>\n",
       "      <td>1909434</td>\n",
       "      <td>2609789</td>\n",
       "      <td>Mayans</td>\n",
       "      <td>Japanese</td>\n",
       "      <td>1</td>\n",
       "    </tr>\n",
       "    <tr>\n",
       "      <th>6</th>\n",
       "      <td>88924912</td>\n",
       "      <td>2609789</td>\n",
       "      <td>1909434</td>\n",
       "      <td>Japanese</td>\n",
       "      <td>Mayans</td>\n",
       "      <td>0</td>\n",
       "    </tr>\n",
       "    <tr>\n",
       "      <th>9</th>\n",
       "      <td>88924915</td>\n",
       "      <td>2071119</td>\n",
       "      <td>3230134</td>\n",
       "      <td>Mayans</td>\n",
       "      <td>Magyars</td>\n",
       "      <td>0</td>\n",
       "    </tr>\n",
       "    <tr>\n",
       "      <th>10</th>\n",
       "      <td>88924915</td>\n",
       "      <td>3230134</td>\n",
       "      <td>2071119</td>\n",
       "      <td>Magyars</td>\n",
       "      <td>Mayans</td>\n",
       "      <td>1</td>\n",
       "    </tr>\n",
       "  </tbody>\n",
       "</table>\n",
       "</div>"
      ],
      "text/plain": [
       "    match_id   player  opponent       civ opponent_civ  won\n",
       "1   88924823  1809052   4754263   Vikings     Saracens    0\n",
       "2   88924823  4754263   1809052  Saracens      Vikings    1\n",
       "5   88924912  1909434   2609789    Mayans     Japanese    1\n",
       "6   88924912  2609789   1909434  Japanese       Mayans    0\n",
       "9   88924915  2071119   3230134    Mayans      Magyars    0\n",
       "10  88924915  3230134   2071119   Magyars       Mayans    1"
      ]
     },
     "execution_count": 34,
     "metadata": {},
     "output_type": "execute_result"
    }
   ],
   "source": [
    "vs_df.head(6)"
   ]
  },
  {
   "cell_type": "code",
   "execution_count": 35,
   "metadata": {},
   "outputs": [
    {
     "data": {
      "text/html": [
       "<div>\n",
       "<style scoped>\n",
       "    .dataframe tbody tr th:only-of-type {\n",
       "        vertical-align: middle;\n",
       "    }\n",
       "\n",
       "    .dataframe tbody tr th {\n",
       "        vertical-align: top;\n",
       "    }\n",
       "\n",
       "    .dataframe thead th {\n",
       "        text-align: right;\n",
       "    }\n",
       "</style>\n",
       "<table border=\"1\" class=\"dataframe\">\n",
       "  <thead>\n",
       "    <tr style=\"text-align: right;\">\n",
       "      <th>opponent_civ</th>\n",
       "      <th>Aztecs</th>\n",
       "      <th>Berbers</th>\n",
       "      <th>Britons</th>\n",
       "      <th>Bulgarians</th>\n",
       "      <th>Burgundians</th>\n",
       "      <th>Burmese</th>\n",
       "      <th>Byzantines</th>\n",
       "      <th>Celts</th>\n",
       "      <th>Chinese</th>\n",
       "      <th>Cumans</th>\n",
       "      <th>...</th>\n",
       "      <th>Portuguese</th>\n",
       "      <th>Saracens</th>\n",
       "      <th>Sicilians</th>\n",
       "      <th>Slavs</th>\n",
       "      <th>Spanish</th>\n",
       "      <th>Tatars</th>\n",
       "      <th>Teutons</th>\n",
       "      <th>Turks</th>\n",
       "      <th>Vietnamese</th>\n",
       "      <th>Vikings</th>\n",
       "    </tr>\n",
       "    <tr>\n",
       "      <th>civ</th>\n",
       "      <th></th>\n",
       "      <th></th>\n",
       "      <th></th>\n",
       "      <th></th>\n",
       "      <th></th>\n",
       "      <th></th>\n",
       "      <th></th>\n",
       "      <th></th>\n",
       "      <th></th>\n",
       "      <th></th>\n",
       "      <th></th>\n",
       "      <th></th>\n",
       "      <th></th>\n",
       "      <th></th>\n",
       "      <th></th>\n",
       "      <th></th>\n",
       "      <th></th>\n",
       "      <th></th>\n",
       "      <th></th>\n",
       "      <th></th>\n",
       "      <th></th>\n",
       "    </tr>\n",
       "  </thead>\n",
       "  <tbody>\n",
       "    <tr>\n",
       "      <th>Aztecs</th>\n",
       "      <td>0.500000</td>\n",
       "      <td>0.498745</td>\n",
       "      <td>0.505046</td>\n",
       "      <td>0.403601</td>\n",
       "      <td>0.499500</td>\n",
       "      <td>0.541176</td>\n",
       "      <td>0.580076</td>\n",
       "      <td>0.473205</td>\n",
       "      <td>0.551105</td>\n",
       "      <td>0.545317</td>\n",
       "      <td>...</td>\n",
       "      <td>0.555556</td>\n",
       "      <td>0.542675</td>\n",
       "      <td>0.459227</td>\n",
       "      <td>0.461794</td>\n",
       "      <td>0.514516</td>\n",
       "      <td>0.575450</td>\n",
       "      <td>0.477197</td>\n",
       "      <td>0.567449</td>\n",
       "      <td>0.541769</td>\n",
       "      <td>0.496000</td>\n",
       "    </tr>\n",
       "    <tr>\n",
       "      <th>Berbers</th>\n",
       "      <td>0.501255</td>\n",
       "      <td>0.500000</td>\n",
       "      <td>0.536960</td>\n",
       "      <td>0.501698</td>\n",
       "      <td>0.539414</td>\n",
       "      <td>0.596685</td>\n",
       "      <td>0.518405</td>\n",
       "      <td>0.490298</td>\n",
       "      <td>0.535802</td>\n",
       "      <td>0.569790</td>\n",
       "      <td>...</td>\n",
       "      <td>0.610738</td>\n",
       "      <td>0.575342</td>\n",
       "      <td>0.581967</td>\n",
       "      <td>0.503984</td>\n",
       "      <td>0.641618</td>\n",
       "      <td>0.627097</td>\n",
       "      <td>0.506378</td>\n",
       "      <td>0.644531</td>\n",
       "      <td>0.606145</td>\n",
       "      <td>0.510717</td>\n",
       "    </tr>\n",
       "    <tr>\n",
       "      <th>Britons</th>\n",
       "      <td>0.494954</td>\n",
       "      <td>0.463040</td>\n",
       "      <td>0.500000</td>\n",
       "      <td>0.482270</td>\n",
       "      <td>0.475283</td>\n",
       "      <td>0.559939</td>\n",
       "      <td>0.551364</td>\n",
       "      <td>0.509994</td>\n",
       "      <td>0.524547</td>\n",
       "      <td>0.580889</td>\n",
       "      <td>...</td>\n",
       "      <td>0.611584</td>\n",
       "      <td>0.619574</td>\n",
       "      <td>0.574202</td>\n",
       "      <td>0.479561</td>\n",
       "      <td>0.575000</td>\n",
       "      <td>0.573267</td>\n",
       "      <td>0.510842</td>\n",
       "      <td>0.483615</td>\n",
       "      <td>0.492101</td>\n",
       "      <td>0.556182</td>\n",
       "    </tr>\n",
       "    <tr>\n",
       "      <th>Bulgarians</th>\n",
       "      <td>0.596399</td>\n",
       "      <td>0.498302</td>\n",
       "      <td>0.517730</td>\n",
       "      <td>0.500000</td>\n",
       "      <td>0.524920</td>\n",
       "      <td>0.559611</td>\n",
       "      <td>0.589286</td>\n",
       "      <td>0.559322</td>\n",
       "      <td>0.545455</td>\n",
       "      <td>0.556800</td>\n",
       "      <td>...</td>\n",
       "      <td>0.564516</td>\n",
       "      <td>0.538251</td>\n",
       "      <td>0.580822</td>\n",
       "      <td>0.542214</td>\n",
       "      <td>0.526042</td>\n",
       "      <td>0.518300</td>\n",
       "      <td>0.481618</td>\n",
       "      <td>0.558574</td>\n",
       "      <td>0.608179</td>\n",
       "      <td>0.505634</td>\n",
       "    </tr>\n",
       "    <tr>\n",
       "      <th>Burgundians</th>\n",
       "      <td>0.500500</td>\n",
       "      <td>0.460586</td>\n",
       "      <td>0.524717</td>\n",
       "      <td>0.475080</td>\n",
       "      <td>0.500000</td>\n",
       "      <td>0.535503</td>\n",
       "      <td>0.502582</td>\n",
       "      <td>0.487102</td>\n",
       "      <td>0.547120</td>\n",
       "      <td>0.591398</td>\n",
       "      <td>...</td>\n",
       "      <td>0.660777</td>\n",
       "      <td>0.505859</td>\n",
       "      <td>0.573290</td>\n",
       "      <td>0.524027</td>\n",
       "      <td>0.521739</td>\n",
       "      <td>0.535433</td>\n",
       "      <td>0.493443</td>\n",
       "      <td>0.558242</td>\n",
       "      <td>0.558484</td>\n",
       "      <td>0.490481</td>\n",
       "    </tr>\n",
       "    <tr>\n",
       "      <th>Burmese</th>\n",
       "      <td>0.458824</td>\n",
       "      <td>0.403315</td>\n",
       "      <td>0.440061</td>\n",
       "      <td>0.440389</td>\n",
       "      <td>0.464497</td>\n",
       "      <td>0.500000</td>\n",
       "      <td>0.475556</td>\n",
       "      <td>0.467181</td>\n",
       "      <td>0.438830</td>\n",
       "      <td>0.558559</td>\n",
       "      <td>...</td>\n",
       "      <td>0.479769</td>\n",
       "      <td>0.454545</td>\n",
       "      <td>0.510345</td>\n",
       "      <td>0.485577</td>\n",
       "      <td>0.453390</td>\n",
       "      <td>0.420074</td>\n",
       "      <td>0.474820</td>\n",
       "      <td>0.530516</td>\n",
       "      <td>0.425993</td>\n",
       "      <td>0.416486</td>\n",
       "    </tr>\n",
       "    <tr>\n",
       "      <th>Byzantines</th>\n",
       "      <td>0.419924</td>\n",
       "      <td>0.481595</td>\n",
       "      <td>0.448636</td>\n",
       "      <td>0.410714</td>\n",
       "      <td>0.497418</td>\n",
       "      <td>0.524444</td>\n",
       "      <td>0.500000</td>\n",
       "      <td>0.447876</td>\n",
       "      <td>0.492208</td>\n",
       "      <td>0.488312</td>\n",
       "      <td>...</td>\n",
       "      <td>0.506276</td>\n",
       "      <td>0.520725</td>\n",
       "      <td>0.402390</td>\n",
       "      <td>0.458924</td>\n",
       "      <td>0.507853</td>\n",
       "      <td>0.494505</td>\n",
       "      <td>0.450094</td>\n",
       "      <td>0.481268</td>\n",
       "      <td>0.465368</td>\n",
       "      <td>0.417871</td>\n",
       "    </tr>\n",
       "    <tr>\n",
       "      <th>Celts</th>\n",
       "      <td>0.526795</td>\n",
       "      <td>0.509702</td>\n",
       "      <td>0.490006</td>\n",
       "      <td>0.440678</td>\n",
       "      <td>0.512898</td>\n",
       "      <td>0.532819</td>\n",
       "      <td>0.552124</td>\n",
       "      <td>0.500000</td>\n",
       "      <td>0.540097</td>\n",
       "      <td>0.567033</td>\n",
       "      <td>...</td>\n",
       "      <td>0.524306</td>\n",
       "      <td>0.529138</td>\n",
       "      <td>0.536765</td>\n",
       "      <td>0.489157</td>\n",
       "      <td>0.531674</td>\n",
       "      <td>0.546332</td>\n",
       "      <td>0.530035</td>\n",
       "      <td>0.535211</td>\n",
       "      <td>0.548148</td>\n",
       "      <td>0.499462</td>\n",
       "    </tr>\n",
       "    <tr>\n",
       "      <th>Chinese</th>\n",
       "      <td>0.448895</td>\n",
       "      <td>0.464198</td>\n",
       "      <td>0.475453</td>\n",
       "      <td>0.454545</td>\n",
       "      <td>0.452880</td>\n",
       "      <td>0.561170</td>\n",
       "      <td>0.507792</td>\n",
       "      <td>0.459903</td>\n",
       "      <td>0.500000</td>\n",
       "      <td>0.562057</td>\n",
       "      <td>...</td>\n",
       "      <td>0.508929</td>\n",
       "      <td>0.515873</td>\n",
       "      <td>0.455446</td>\n",
       "      <td>0.462712</td>\n",
       "      <td>0.493610</td>\n",
       "      <td>0.509434</td>\n",
       "      <td>0.488918</td>\n",
       "      <td>0.509532</td>\n",
       "      <td>0.527919</td>\n",
       "      <td>0.467890</td>\n",
       "    </tr>\n",
       "    <tr>\n",
       "      <th>Cumans</th>\n",
       "      <td>0.454683</td>\n",
       "      <td>0.430210</td>\n",
       "      <td>0.419111</td>\n",
       "      <td>0.443200</td>\n",
       "      <td>0.408602</td>\n",
       "      <td>0.441441</td>\n",
       "      <td>0.511688</td>\n",
       "      <td>0.432967</td>\n",
       "      <td>0.437943</td>\n",
       "      <td>0.500000</td>\n",
       "      <td>...</td>\n",
       "      <td>0.513274</td>\n",
       "      <td>0.476323</td>\n",
       "      <td>0.492462</td>\n",
       "      <td>0.410423</td>\n",
       "      <td>0.468493</td>\n",
       "      <td>0.447802</td>\n",
       "      <td>0.479381</td>\n",
       "      <td>0.521277</td>\n",
       "      <td>0.500000</td>\n",
       "      <td>0.455951</td>\n",
       "    </tr>\n",
       "  </tbody>\n",
       "</table>\n",
       "<p>10 rows × 37 columns</p>\n",
       "</div>"
      ],
      "text/plain": [
       "opponent_civ    Aztecs   Berbers   Britons  Bulgarians  Burgundians   Burmese  \\\n",
       "civ                                                                             \n",
       "Aztecs        0.500000  0.498745  0.505046    0.403601     0.499500  0.541176   \n",
       "Berbers       0.501255  0.500000  0.536960    0.501698     0.539414  0.596685   \n",
       "Britons       0.494954  0.463040  0.500000    0.482270     0.475283  0.559939   \n",
       "Bulgarians    0.596399  0.498302  0.517730    0.500000     0.524920  0.559611   \n",
       "Burgundians   0.500500  0.460586  0.524717    0.475080     0.500000  0.535503   \n",
       "Burmese       0.458824  0.403315  0.440061    0.440389     0.464497  0.500000   \n",
       "Byzantines    0.419924  0.481595  0.448636    0.410714     0.497418  0.524444   \n",
       "Celts         0.526795  0.509702  0.490006    0.440678     0.512898  0.532819   \n",
       "Chinese       0.448895  0.464198  0.475453    0.454545     0.452880  0.561170   \n",
       "Cumans        0.454683  0.430210  0.419111    0.443200     0.408602  0.441441   \n",
       "\n",
       "opponent_civ  Byzantines     Celts   Chinese    Cumans  ...  Portuguese  \\\n",
       "civ                                                     ...               \n",
       "Aztecs          0.580076  0.473205  0.551105  0.545317  ...    0.555556   \n",
       "Berbers         0.518405  0.490298  0.535802  0.569790  ...    0.610738   \n",
       "Britons         0.551364  0.509994  0.524547  0.580889  ...    0.611584   \n",
       "Bulgarians      0.589286  0.559322  0.545455  0.556800  ...    0.564516   \n",
       "Burgundians     0.502582  0.487102  0.547120  0.591398  ...    0.660777   \n",
       "Burmese         0.475556  0.467181  0.438830  0.558559  ...    0.479769   \n",
       "Byzantines      0.500000  0.447876  0.492208  0.488312  ...    0.506276   \n",
       "Celts           0.552124  0.500000  0.540097  0.567033  ...    0.524306   \n",
       "Chinese         0.507792  0.459903  0.500000  0.562057  ...    0.508929   \n",
       "Cumans          0.511688  0.432967  0.437943  0.500000  ...    0.513274   \n",
       "\n",
       "opponent_civ  Saracens  Sicilians     Slavs   Spanish    Tatars   Teutons  \\\n",
       "civ                                                                         \n",
       "Aztecs        0.542675   0.459227  0.461794  0.514516  0.575450  0.477197   \n",
       "Berbers       0.575342   0.581967  0.503984  0.641618  0.627097  0.506378   \n",
       "Britons       0.619574   0.574202  0.479561  0.575000  0.573267  0.510842   \n",
       "Bulgarians    0.538251   0.580822  0.542214  0.526042  0.518300  0.481618   \n",
       "Burgundians   0.505859   0.573290  0.524027  0.521739  0.535433  0.493443   \n",
       "Burmese       0.454545   0.510345  0.485577  0.453390  0.420074  0.474820   \n",
       "Byzantines    0.520725   0.402390  0.458924  0.507853  0.494505  0.450094   \n",
       "Celts         0.529138   0.536765  0.489157  0.531674  0.546332  0.530035   \n",
       "Chinese       0.515873   0.455446  0.462712  0.493610  0.509434  0.488918   \n",
       "Cumans        0.476323   0.492462  0.410423  0.468493  0.447802  0.479381   \n",
       "\n",
       "opponent_civ     Turks  Vietnamese   Vikings  \n",
       "civ                                           \n",
       "Aztecs        0.567449    0.541769  0.496000  \n",
       "Berbers       0.644531    0.606145  0.510717  \n",
       "Britons       0.483615    0.492101  0.556182  \n",
       "Bulgarians    0.558574    0.608179  0.505634  \n",
       "Burgundians   0.558242    0.558484  0.490481  \n",
       "Burmese       0.530516    0.425993  0.416486  \n",
       "Byzantines    0.481268    0.465368  0.417871  \n",
       "Celts         0.535211    0.548148  0.499462  \n",
       "Chinese       0.509532    0.527919  0.467890  \n",
       "Cumans        0.521277    0.500000  0.455951  \n",
       "\n",
       "[10 rows x 37 columns]"
      ]
     },
     "execution_count": 35,
     "metadata": {},
     "output_type": "execute_result"
    }
   ],
   "source": [
    "# Matriz cuadrada del porcentaje de victorias de civilizaciones vs el resto de civilizaciones.\n",
    "win_vs_singleplayer = vs_df.pivot_table(values=\"won\", index=\"civ\", columns=\"opponent_civ\")\n",
    "win_vs_singleplayer.head(10)"
   ]
  },
  {
   "cell_type": "code",
   "execution_count": 36,
   "metadata": {},
   "outputs": [
    {
     "data": {
      "text/plain": [
       "Text(0.5, 1.0, 'Porcentaje de Victorias de cada Civilización vs el resto de Civilizaciones')"
      ]
     },
     "execution_count": 36,
     "metadata": {},
     "output_type": "execute_result"
    },
    {
     "data": {
      "image/png": "[encoded data removed]",
      "text/plain": [
       "<Figure size 1008x720 with 2 Axes>"
      ]
     },
     "metadata": {
      "needs_background": "light"
     },
     "output_type": "display_data"
    }
   ],
   "source": [
    "from pylab import rcParams\n",
    "rcParams['figure.figsize'] = 14, 10\n",
    "sns.heatmap(win_vs_singleplayer, cmap=\"PuBu\")\n",
    "plt.ylabel(\"Civilización\")\n",
    "plt.xlabel(\"Civilización del oponente\")\n",
    "plt.title(\"Porcentaje de Victorias de cada Civilización vs el resto de Civilizaciones\")"
   ]
  },
  {
   "cell_type": "code",
   "execution_count": 37,
   "metadata": {},
   "outputs": [
    {
     "data": {
      "text/html": [
       "<div>\n",
       "<style scoped>\n",
       "    .dataframe tbody tr th:only-of-type {\n",
       "        vertical-align: middle;\n",
       "    }\n",
       "\n",
       "    .dataframe tbody tr th {\n",
       "        vertical-align: top;\n",
       "    }\n",
       "\n",
       "    .dataframe thead th {\n",
       "        text-align: right;\n",
       "    }\n",
       "</style>\n",
       "<table border=\"1\" class=\"dataframe\">\n",
       "  <thead>\n",
       "    <tr style=\"text-align: right;\">\n",
       "      <th></th>\n",
       "      <th>civ</th>\n",
       "      <th>opponent_civ</th>\n",
       "      <th>win_rate</th>\n",
       "    </tr>\n",
       "  </thead>\n",
       "  <tbody>\n",
       "    <tr>\n",
       "      <th>0</th>\n",
       "      <td>Burgundians</td>\n",
       "      <td>Portuguese</td>\n",
       "      <td>0.660777</td>\n",
       "    </tr>\n",
       "    <tr>\n",
       "      <th>1</th>\n",
       "      <td>Indians</td>\n",
       "      <td>Cumans</td>\n",
       "      <td>0.647059</td>\n",
       "    </tr>\n",
       "    <tr>\n",
       "      <th>2</th>\n",
       "      <td>Berbers</td>\n",
       "      <td>Turks</td>\n",
       "      <td>0.644531</td>\n",
       "    </tr>\n",
       "    <tr>\n",
       "      <th>3</th>\n",
       "      <td>Indians</td>\n",
       "      <td>Burmese</td>\n",
       "      <td>0.642045</td>\n",
       "    </tr>\n",
       "    <tr>\n",
       "      <th>4</th>\n",
       "      <td>Berbers</td>\n",
       "      <td>Spanish</td>\n",
       "      <td>0.641618</td>\n",
       "    </tr>\n",
       "    <tr>\n",
       "      <th>5</th>\n",
       "      <td>Indians</td>\n",
       "      <td>Spanish</td>\n",
       "      <td>0.633858</td>\n",
       "    </tr>\n",
       "    <tr>\n",
       "      <th>6</th>\n",
       "      <td>Berbers</td>\n",
       "      <td>Tatars</td>\n",
       "      <td>0.627097</td>\n",
       "    </tr>\n",
       "    <tr>\n",
       "      <th>7</th>\n",
       "      <td>Lithuanians</td>\n",
       "      <td>Portuguese</td>\n",
       "      <td>0.625461</td>\n",
       "    </tr>\n",
       "    <tr>\n",
       "      <th>8</th>\n",
       "      <td>Mayans</td>\n",
       "      <td>Byzantines</td>\n",
       "      <td>0.622962</td>\n",
       "    </tr>\n",
       "    <tr>\n",
       "      <th>9</th>\n",
       "      <td>Indians</td>\n",
       "      <td>Turks</td>\n",
       "      <td>0.622490</td>\n",
       "    </tr>\n",
       "    <tr>\n",
       "      <th>10</th>\n",
       "      <td>Britons</td>\n",
       "      <td>Saracens</td>\n",
       "      <td>0.619574</td>\n",
       "    </tr>\n",
       "    <tr>\n",
       "      <th>11</th>\n",
       "      <td>Huns</td>\n",
       "      <td>Burmese</td>\n",
       "      <td>0.616740</td>\n",
       "    </tr>\n",
       "    <tr>\n",
       "      <th>12</th>\n",
       "      <td>Persians</td>\n",
       "      <td>Portuguese</td>\n",
       "      <td>0.614458</td>\n",
       "    </tr>\n",
       "    <tr>\n",
       "      <th>13</th>\n",
       "      <td>Teutons</td>\n",
       "      <td>Sicilians</td>\n",
       "      <td>0.614286</td>\n",
       "    </tr>\n",
       "    <tr>\n",
       "      <th>14</th>\n",
       "      <td>Slavs</td>\n",
       "      <td>Malay</td>\n",
       "      <td>0.614108</td>\n",
       "    </tr>\n",
       "    <tr>\n",
       "      <th>15</th>\n",
       "      <td>Indians</td>\n",
       "      <td>Persians</td>\n",
       "      <td>0.614035</td>\n",
       "    </tr>\n",
       "    <tr>\n",
       "      <th>16</th>\n",
       "      <td>Britons</td>\n",
       "      <td>Portuguese</td>\n",
       "      <td>0.611584</td>\n",
       "    </tr>\n",
       "    <tr>\n",
       "      <th>17</th>\n",
       "      <td>Berbers</td>\n",
       "      <td>Portuguese</td>\n",
       "      <td>0.610738</td>\n",
       "    </tr>\n",
       "    <tr>\n",
       "      <th>18</th>\n",
       "      <td>Indians</td>\n",
       "      <td>Saracens</td>\n",
       "      <td>0.609589</td>\n",
       "    </tr>\n",
       "    <tr>\n",
       "      <th>19</th>\n",
       "      <td>Franks</td>\n",
       "      <td>Koreans</td>\n",
       "      <td>0.608835</td>\n",
       "    </tr>\n",
       "    <tr>\n",
       "      <th>20</th>\n",
       "      <td>Teutons</td>\n",
       "      <td>Khmer</td>\n",
       "      <td>0.608197</td>\n",
       "    </tr>\n",
       "  </tbody>\n",
       "</table>\n",
       "</div>"
      ],
      "text/plain": [
       "            civ opponent_civ  win_rate\n",
       "0   Burgundians   Portuguese  0.660777\n",
       "1       Indians       Cumans  0.647059\n",
       "2       Berbers        Turks  0.644531\n",
       "3       Indians      Burmese  0.642045\n",
       "4       Berbers      Spanish  0.641618\n",
       "5       Indians      Spanish  0.633858\n",
       "6       Berbers       Tatars  0.627097\n",
       "7   Lithuanians   Portuguese  0.625461\n",
       "8        Mayans   Byzantines  0.622962\n",
       "9       Indians        Turks  0.622490\n",
       "10      Britons     Saracens  0.619574\n",
       "11         Huns      Burmese  0.616740\n",
       "12     Persians   Portuguese  0.614458\n",
       "13      Teutons    Sicilians  0.614286\n",
       "14        Slavs        Malay  0.614108\n",
       "15      Indians     Persians  0.614035\n",
       "16      Britons   Portuguese  0.611584\n",
       "17      Berbers   Portuguese  0.610738\n",
       "18      Indians     Saracens  0.609589\n",
       "19       Franks      Koreans  0.608835\n",
       "20      Teutons        Khmer  0.608197"
      ]
     },
     "execution_count": 37,
     "metadata": {},
     "output_type": "execute_result"
    }
   ],
   "source": [
    "melted_win_vs_singleplayer = win_vs_singleplayer.unstack().reset_index().rename(columns={0: \"win_rate\"})\n",
    "melted_win_vs_singleplayer.sort_values(\"win_rate\").nlargest(10, columns=\"win_rate\").reset_index(drop=True)\n",
    "melted_win_vs_singleplayer = melted_win_vs_singleplayer[[\"civ\", \"opponent_civ\", \"win_rate\"]]\n",
    "melted_win_vs_singleplayer.nlargest(21, columns=\"win_rate\").reset_index(drop=True)"
   ]
  }
 ],
 "metadata": {
  "kernelspec": {
   "display_name": "Python 3",
   "language": "python",
   "name": "python3"
  },
  "language_info": {
   "codemirror_mode": {
    "name": "ipython",
    "version": 3
   },
   "file_extension": ".py",
   "mimetype": "text/x-python",
   "name": "python",
   "nbconvert_exporter": "python",
   "pygments_lexer": "ipython3",
   "version": "3.9.4"
  }
 },
 "nbformat": 4,
 "nbformat_minor": 4
}
